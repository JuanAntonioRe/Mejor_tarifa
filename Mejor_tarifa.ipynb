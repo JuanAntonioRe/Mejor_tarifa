{
 "cells": [
  {
   "cell_type": "markdown",
   "metadata": {
    "id": "3rYiDeEH0q0f"
   },
   "source": [
    "# ¿Cuál es la mejor tarifa?\n",
    "\n",
    "Trabajas como analista para el operador de telecomunicaciones Megaline. La empresa ofrece a sus clientes dos tarifas de prepago, Surf y Ultimate. El departamento comercial quiere saber cuál de las tarifas genera más ingresos para poder ajustar el presupuesto de publicidad.\n",
    "\n",
    "Vas a realizar un análisis preliminar de las tarifas basado en una selección de clientes relativamente pequeña. Tendrás los datos de 500 clientes de Megaline: quiénes son los clientes, de dónde son, qué tarifa usan, así como la cantidad de llamadas que hicieron y los mensajes de texto que enviaron en 2018. Tu trabajo es analizar el comportamiento de los clientes y determinar qué tarifa de prepago genera más ingresos."
   ]
  },
  {
   "cell_type": "markdown",
   "metadata": {
    "id": "MQi4IPy70q0y"
   },
   "source": [
    "## Inicialización"
   ]
  },
  {
   "cell_type": "code",
   "execution_count": 1,
   "metadata": {
    "id": "MtYIuBxu0q0z"
   },
   "outputs": [],
   "source": [
    "# Cargar todas las librerías necesarias\n",
    "import pandas as pd\n",
    "from matplotlib import pyplot as plt\n",
    "import numpy as np\n",
    "from math import ceil\n",
    "import seaborn as sns\n",
    "from scipy import stats as st"
   ]
  },
  {
   "cell_type": "markdown",
   "metadata": {
    "id": "4ysWWC5i0q00"
   },
   "source": [
    "## Cargar datos"
   ]
  },
  {
   "cell_type": "code",
   "execution_count": 2,
   "metadata": {
    "id": "CCqPW7rS0q01"
   },
   "outputs": [],
   "source": [
    "# Carga los archivos de datos en diferentes DataFrames\n",
    "# DataFrame de las tarifas\n",
    "plans = pd.read_csv('/datasets/megaline_plans.csv')\n",
    "\n",
    "# DataFrame de los usuarios\n",
    "users = pd.read_csv('/datasets/megaline_users.csv')\n",
    "\n",
    "#DataFrame de las llamadas\n",
    "calls = pd.read_csv('/datasets/megaline_calls.csv')\n",
    "\n",
    "#DastaFrame de los mensajes\n",
    "messages = pd.read_csv('/datasets/megaline_messages.csv')\n",
    "\n",
    "#DataFrame del internet\n",
    "internet = pd.read_csv('/datasets/megaline_internet.csv')"
   ]
  },
  {
   "cell_type": "markdown",
   "metadata": {
    "id": "69qqoJ3r0q01"
   },
   "source": [
    "## Preparar los datos"
   ]
  },
  {
   "cell_type": "markdown",
   "metadata": {
    "id": "vUuZw80S0q01"
   },
   "source": [
    "Exploración de los datos de las diferentes tablas para buscar duplicados o valores ausentes"
   ]
  },
  {
   "cell_type": "markdown",
   "metadata": {
    "id": "ohBhimvH0q01"
   },
   "source": [
    "## Tarifas"
   ]
  },
  {
   "cell_type": "code",
   "execution_count": 3,
   "metadata": {
    "id": "GptqP3Q40q02"
   },
   "outputs": [
    {
     "name": "stdout",
     "output_type": "stream",
     "text": [
      "<class 'pandas.core.frame.DataFrame'>\n",
      "RangeIndex: 2 entries, 0 to 1\n",
      "Data columns (total 8 columns):\n",
      " #   Column                 Non-Null Count  Dtype  \n",
      "---  ------                 --------------  -----  \n",
      " 0   messages_included      2 non-null      int64  \n",
      " 1   mb_per_month_included  2 non-null      int64  \n",
      " 2   minutes_included       2 non-null      int64  \n",
      " 3   usd_monthly_pay        2 non-null      int64  \n",
      " 4   usd_per_gb             2 non-null      int64  \n",
      " 5   usd_per_message        2 non-null      float64\n",
      " 6   usd_per_minute         2 non-null      float64\n",
      " 7   plan_name              2 non-null      object \n",
      "dtypes: float64(2), int64(5), object(1)\n",
      "memory usage: 256.0+ bytes\n"
     ]
    }
   ],
   "source": [
    "# Imprime la información general/resumida sobre el DataFrame de las tarifas\n",
    "plans.info()\n"
   ]
  },
  {
   "cell_type": "code",
   "execution_count": 4,
   "metadata": {
    "id": "64xzjwL70q02",
    "scrolled": true
   },
   "outputs": [
    {
     "data": {
      "text/html": [
       "<div>\n",
       "<style scoped>\n",
       "    .dataframe tbody tr th:only-of-type {\n",
       "        vertical-align: middle;\n",
       "    }\n",
       "\n",
       "    .dataframe tbody tr th {\n",
       "        vertical-align: top;\n",
       "    }\n",
       "\n",
       "    .dataframe thead th {\n",
       "        text-align: right;\n",
       "    }\n",
       "</style>\n",
       "<table border=\"1\" class=\"dataframe\">\n",
       "  <thead>\n",
       "    <tr style=\"text-align: right;\">\n",
       "      <th></th>\n",
       "      <th>messages_included</th>\n",
       "      <th>mb_per_month_included</th>\n",
       "      <th>minutes_included</th>\n",
       "      <th>usd_monthly_pay</th>\n",
       "      <th>usd_per_gb</th>\n",
       "      <th>usd_per_message</th>\n",
       "      <th>usd_per_minute</th>\n",
       "      <th>plan_name</th>\n",
       "    </tr>\n",
       "  </thead>\n",
       "  <tbody>\n",
       "    <tr>\n",
       "      <th>0</th>\n",
       "      <td>50</td>\n",
       "      <td>15360</td>\n",
       "      <td>500</td>\n",
       "      <td>20</td>\n",
       "      <td>10</td>\n",
       "      <td>0.03</td>\n",
       "      <td>0.03</td>\n",
       "      <td>surf</td>\n",
       "    </tr>\n",
       "    <tr>\n",
       "      <th>1</th>\n",
       "      <td>1000</td>\n",
       "      <td>30720</td>\n",
       "      <td>3000</td>\n",
       "      <td>70</td>\n",
       "      <td>7</td>\n",
       "      <td>0.01</td>\n",
       "      <td>0.01</td>\n",
       "      <td>ultimate</td>\n",
       "    </tr>\n",
       "  </tbody>\n",
       "</table>\n",
       "</div>"
      ],
      "text/plain": [
       "   messages_included  mb_per_month_included  minutes_included  \\\n",
       "0                 50                  15360               500   \n",
       "1               1000                  30720              3000   \n",
       "\n",
       "   usd_monthly_pay  usd_per_gb  usd_per_message  usd_per_minute plan_name  \n",
       "0               20          10             0.03            0.03      surf  \n",
       "1               70           7             0.01            0.01  ultimate  "
      ]
     },
     "metadata": {},
     "output_type": "display_data"
    }
   ],
   "source": [
    "# Imprime una muestra de los datos para las tarifas\n",
    "display(plans.head())"
   ]
  },
  {
   "cell_type": "markdown",
   "metadata": {
    "id": "mEc_3_hs0q02"
   },
   "source": [
    "La tabla solo tiene dos renglones , sin valores ausentes y que su tipo de datos está de manera correcta"
   ]
  },
  {
   "cell_type": "markdown",
   "metadata": {
    "id": "R3C05i1l0q03"
   },
   "source": [
    "## Corregir datos"
   ]
  },
  {
   "cell_type": "markdown",
   "metadata": {
    "id": "bIi8StZI0q03"
   },
   "source": [
    "La tabla de las tarifas sólo tiene 2 renglones y no tiene datos ausentes ni datos duplicados. Sin embargo se cambiará la columna de ```mb_per_month_included``` por ```gb_per_month_included``` y se tranformará los mb en gb"
   ]
  },
  {
   "cell_type": "code",
   "execution_count": 5,
   "metadata": {},
   "outputs": [
    {
     "data": {
      "text/html": [
       "<div>\n",
       "<style scoped>\n",
       "    .dataframe tbody tr th:only-of-type {\n",
       "        vertical-align: middle;\n",
       "    }\n",
       "\n",
       "    .dataframe tbody tr th {\n",
       "        vertical-align: top;\n",
       "    }\n",
       "\n",
       "    .dataframe thead th {\n",
       "        text-align: right;\n",
       "    }\n",
       "</style>\n",
       "<table border=\"1\" class=\"dataframe\">\n",
       "  <thead>\n",
       "    <tr style=\"text-align: right;\">\n",
       "      <th></th>\n",
       "      <th>messages_included</th>\n",
       "      <th>gb_per_month_included</th>\n",
       "      <th>minutes_included</th>\n",
       "      <th>usd_monthly_pay</th>\n",
       "      <th>usd_per_gb</th>\n",
       "      <th>usd_per_message</th>\n",
       "      <th>usd_per_minute</th>\n",
       "      <th>plan_name</th>\n",
       "    </tr>\n",
       "  </thead>\n",
       "  <tbody>\n",
       "    <tr>\n",
       "      <th>0</th>\n",
       "      <td>50</td>\n",
       "      <td>15</td>\n",
       "      <td>500</td>\n",
       "      <td>20</td>\n",
       "      <td>10</td>\n",
       "      <td>0.03</td>\n",
       "      <td>0.03</td>\n",
       "      <td>surf</td>\n",
       "    </tr>\n",
       "    <tr>\n",
       "      <th>1</th>\n",
       "      <td>1000</td>\n",
       "      <td>30</td>\n",
       "      <td>3000</td>\n",
       "      <td>70</td>\n",
       "      <td>7</td>\n",
       "      <td>0.01</td>\n",
       "      <td>0.01</td>\n",
       "      <td>ultimate</td>\n",
       "    </tr>\n",
       "  </tbody>\n",
       "</table>\n",
       "</div>"
      ],
      "text/plain": [
       "   messages_included  gb_per_month_included  minutes_included  \\\n",
       "0                 50                     15               500   \n",
       "1               1000                     30              3000   \n",
       "\n",
       "   usd_monthly_pay  usd_per_gb  usd_per_message  usd_per_minute plan_name  \n",
       "0               20          10             0.03            0.03      surf  \n",
       "1               70           7             0.01            0.01  ultimate  "
      ]
     },
     "metadata": {},
     "output_type": "display_data"
    }
   ],
   "source": [
    "plans.rename(columns={'mb_per_month_included': 'gb_per_month_included'}, inplace=True)\n",
    "plans['gb_per_month_included'] = plans['gb_per_month_included'] / 1024\n",
    "plans['gb_per_month_included'] = plans['gb_per_month_included'].astype('int')\n",
    "display(plans.head())"
   ]
  },
  {
   "cell_type": "markdown",
   "metadata": {
    "id": "LJir7bml0q03"
   },
   "source": [
    "## Enriquecer los datos"
   ]
  },
  {
   "cell_type": "markdown",
   "metadata": {
    "id": "eqADpCfg0q04"
   },
   "source": [
    "No es necesario enriquecer los datos porque sólo presenta información del contenido de los 2 distintos planes"
   ]
  },
  {
   "cell_type": "markdown",
   "metadata": {
    "id": "1n2X6WXf0q04"
   },
   "source": [
    "## Usuarios/as"
   ]
  },
  {
   "cell_type": "code",
   "execution_count": 6,
   "metadata": {
    "id": "2NgjWFqx0q05"
   },
   "outputs": [
    {
     "name": "stdout",
     "output_type": "stream",
     "text": [
      "<class 'pandas.core.frame.DataFrame'>\n",
      "RangeIndex: 500 entries, 0 to 499\n",
      "Data columns (total 8 columns):\n",
      " #   Column      Non-Null Count  Dtype \n",
      "---  ------      --------------  ----- \n",
      " 0   user_id     500 non-null    int64 \n",
      " 1   first_name  500 non-null    object\n",
      " 2   last_name   500 non-null    object\n",
      " 3   age         500 non-null    int64 \n",
      " 4   city        500 non-null    object\n",
      " 5   reg_date    500 non-null    object\n",
      " 6   plan        500 non-null    object\n",
      " 7   churn_date  34 non-null     object\n",
      "dtypes: int64(2), object(6)\n",
      "memory usage: 31.4+ KB\n"
     ]
    }
   ],
   "source": [
    "# Imprime la información general/resumida sobre el DataFrame de usuarios\n",
    "users.info()"
   ]
  },
  {
   "cell_type": "code",
   "execution_count": 7,
   "metadata": {
    "id": "1IN1L9uh0q05"
   },
   "outputs": [
    {
     "data": {
      "text/html": [
       "<div>\n",
       "<style scoped>\n",
       "    .dataframe tbody tr th:only-of-type {\n",
       "        vertical-align: middle;\n",
       "    }\n",
       "\n",
       "    .dataframe tbody tr th {\n",
       "        vertical-align: top;\n",
       "    }\n",
       "\n",
       "    .dataframe thead th {\n",
       "        text-align: right;\n",
       "    }\n",
       "</style>\n",
       "<table border=\"1\" class=\"dataframe\">\n",
       "  <thead>\n",
       "    <tr style=\"text-align: right;\">\n",
       "      <th></th>\n",
       "      <th>user_id</th>\n",
       "      <th>first_name</th>\n",
       "      <th>last_name</th>\n",
       "      <th>age</th>\n",
       "      <th>city</th>\n",
       "      <th>reg_date</th>\n",
       "      <th>plan</th>\n",
       "      <th>churn_date</th>\n",
       "    </tr>\n",
       "  </thead>\n",
       "  <tbody>\n",
       "    <tr>\n",
       "      <th>56</th>\n",
       "      <td>1056</td>\n",
       "      <td>Denis</td>\n",
       "      <td>Chandler</td>\n",
       "      <td>33</td>\n",
       "      <td>Cincinnati, OH-KY-IN MSA</td>\n",
       "      <td>2018-03-01</td>\n",
       "      <td>surf</td>\n",
       "      <td>NaN</td>\n",
       "    </tr>\n",
       "    <tr>\n",
       "      <th>241</th>\n",
       "      <td>1241</td>\n",
       "      <td>Lala</td>\n",
       "      <td>Walls</td>\n",
       "      <td>24</td>\n",
       "      <td>Richmond, VA MSA</td>\n",
       "      <td>2018-08-27</td>\n",
       "      <td>surf</td>\n",
       "      <td>NaN</td>\n",
       "    </tr>\n",
       "    <tr>\n",
       "      <th>235</th>\n",
       "      <td>1235</td>\n",
       "      <td>Felton</td>\n",
       "      <td>Nguyen</td>\n",
       "      <td>50</td>\n",
       "      <td>Minneapolis-St. Paul-Bloomington, MN-WI MSA</td>\n",
       "      <td>2018-02-20</td>\n",
       "      <td>surf</td>\n",
       "      <td>NaN</td>\n",
       "    </tr>\n",
       "    <tr>\n",
       "      <th>88</th>\n",
       "      <td>1088</td>\n",
       "      <td>Paris</td>\n",
       "      <td>Robertson</td>\n",
       "      <td>64</td>\n",
       "      <td>Phoenix-Mesa-Chandler, AZ MSA</td>\n",
       "      <td>2018-05-27</td>\n",
       "      <td>ultimate</td>\n",
       "      <td>NaN</td>\n",
       "    </tr>\n",
       "    <tr>\n",
       "      <th>155</th>\n",
       "      <td>1155</td>\n",
       "      <td>Claude</td>\n",
       "      <td>Hahn</td>\n",
       "      <td>19</td>\n",
       "      <td>Miami-Fort Lauderdale-West Palm Beach, FL MSA</td>\n",
       "      <td>2018-02-21</td>\n",
       "      <td>ultimate</td>\n",
       "      <td>NaN</td>\n",
       "    </tr>\n",
       "    <tr>\n",
       "      <th>268</th>\n",
       "      <td>1268</td>\n",
       "      <td>Britni</td>\n",
       "      <td>Bowers</td>\n",
       "      <td>33</td>\n",
       "      <td>Fresno, CA MSA</td>\n",
       "      <td>2018-01-13</td>\n",
       "      <td>surf</td>\n",
       "      <td>NaN</td>\n",
       "    </tr>\n",
       "    <tr>\n",
       "      <th>150</th>\n",
       "      <td>1150</td>\n",
       "      <td>Earlie</td>\n",
       "      <td>Giles</td>\n",
       "      <td>46</td>\n",
       "      <td>Houston-The Woodlands-Sugar Land, TX MSA</td>\n",
       "      <td>2018-09-19</td>\n",
       "      <td>ultimate</td>\n",
       "      <td>NaN</td>\n",
       "    </tr>\n",
       "    <tr>\n",
       "      <th>293</th>\n",
       "      <td>1293</td>\n",
       "      <td>Lanny</td>\n",
       "      <td>Nolan</td>\n",
       "      <td>23</td>\n",
       "      <td>Philadelphia-Camden-Wilmington, PA-NJ-DE-MD MSA</td>\n",
       "      <td>2018-08-13</td>\n",
       "      <td>surf</td>\n",
       "      <td>NaN</td>\n",
       "    </tr>\n",
       "    <tr>\n",
       "      <th>92</th>\n",
       "      <td>1092</td>\n",
       "      <td>Taren</td>\n",
       "      <td>Strickland</td>\n",
       "      <td>26</td>\n",
       "      <td>Dallas-Fort Worth-Arlington, TX MSA</td>\n",
       "      <td>2018-12-10</td>\n",
       "      <td>surf</td>\n",
       "      <td>NaN</td>\n",
       "    </tr>\n",
       "    <tr>\n",
       "      <th>456</th>\n",
       "      <td>1456</td>\n",
       "      <td>Seymour</td>\n",
       "      <td>Olsen</td>\n",
       "      <td>66</td>\n",
       "      <td>Minneapolis-St. Paul-Bloomington, MN-WI MSA</td>\n",
       "      <td>2018-06-02</td>\n",
       "      <td>ultimate</td>\n",
       "      <td>NaN</td>\n",
       "    </tr>\n",
       "  </tbody>\n",
       "</table>\n",
       "</div>"
      ],
      "text/plain": [
       "     user_id first_name   last_name  age  \\\n",
       "56      1056      Denis    Chandler   33   \n",
       "241     1241       Lala       Walls   24   \n",
       "235     1235     Felton      Nguyen   50   \n",
       "88      1088      Paris   Robertson   64   \n",
       "155     1155     Claude        Hahn   19   \n",
       "268     1268     Britni      Bowers   33   \n",
       "150     1150     Earlie       Giles   46   \n",
       "293     1293      Lanny       Nolan   23   \n",
       "92      1092      Taren  Strickland   26   \n",
       "456     1456    Seymour       Olsen   66   \n",
       "\n",
       "                                                city    reg_date      plan  \\\n",
       "56                          Cincinnati, OH-KY-IN MSA  2018-03-01      surf   \n",
       "241                                 Richmond, VA MSA  2018-08-27      surf   \n",
       "235      Minneapolis-St. Paul-Bloomington, MN-WI MSA  2018-02-20      surf   \n",
       "88                     Phoenix-Mesa-Chandler, AZ MSA  2018-05-27  ultimate   \n",
       "155    Miami-Fort Lauderdale-West Palm Beach, FL MSA  2018-02-21  ultimate   \n",
       "268                                   Fresno, CA MSA  2018-01-13      surf   \n",
       "150         Houston-The Woodlands-Sugar Land, TX MSA  2018-09-19  ultimate   \n",
       "293  Philadelphia-Camden-Wilmington, PA-NJ-DE-MD MSA  2018-08-13      surf   \n",
       "92               Dallas-Fort Worth-Arlington, TX MSA  2018-12-10      surf   \n",
       "456      Minneapolis-St. Paul-Bloomington, MN-WI MSA  2018-06-02  ultimate   \n",
       "\n",
       "    churn_date  \n",
       "56         NaN  \n",
       "241        NaN  \n",
       "235        NaN  \n",
       "88         NaN  \n",
       "155        NaN  \n",
       "268        NaN  \n",
       "150        NaN  \n",
       "293        NaN  \n",
       "92         NaN  \n",
       "456        NaN  "
      ]
     },
     "metadata": {},
     "output_type": "display_data"
    }
   ],
   "source": [
    "# Imprime una muestra de datos para usuarios\n",
    "display(users.sample(10))"
   ]
  },
  {
   "cell_type": "markdown",
   "metadata": {
    "id": "dCZoUq4f0q06"
   },
   "source": [
    "Se observa que solo la columna ```'churm_date``` tiene valores ausentes, esta es una columna que contiene las fechas en las que los usuarios dejaron de usar el servicio. Si se encuentra como ```NaN``` significa que el usuario sigue usando el servicio. Con la información de arriba sabemos que hay 34 usuarios que han dejado de usar el servicio."
   ]
  },
  {
   "cell_type": "markdown",
   "metadata": {
    "id": "BX5FQh_I0q06"
   },
   "source": [
    "### Corregir los datos"
   ]
  },
  {
   "cell_type": "markdown",
   "metadata": {
    "id": "8OdKMwJv0q06"
   },
   "source": [
    "Con la información de arriba podemos decir que no hay datos duplicados ya que la muestra quese envío es de 500 usuarios y tenemos exactamente 500 renglones, sin embargo nos aseguraremos de que así sea."
   ]
  },
  {
   "cell_type": "code",
   "execution_count": 8,
   "metadata": {
    "id": "yUqX-K0C0q07"
   },
   "outputs": [
    {
     "name": "stdout",
     "output_type": "stream",
     "text": [
      "0\n"
     ]
    }
   ],
   "source": [
    "# Buscar renglones duplicados\n",
    "print(users.duplicated().sum())"
   ]
  },
  {
   "cell_type": "markdown",
   "metadata": {},
   "source": [
    "Como era de esperarse no hay renglones duplicados"
   ]
  },
  {
   "cell_type": "markdown",
   "metadata": {
    "id": "ycwuARJp0q07"
   },
   "source": [
    "### Enriquecer los datos"
   ]
  },
  {
   "cell_type": "markdown",
   "metadata": {
    "id": "96NIh4CJ0q08"
   },
   "source": [
    "No es necesario enriquecer los datos porque sólo presenta información de los usuarios"
   ]
  },
  {
   "cell_type": "markdown",
   "metadata": {
    "id": "o7MeKCid0q08"
   },
   "source": [
    "## Llamadas"
   ]
  },
  {
   "cell_type": "code",
   "execution_count": 9,
   "metadata": {
    "id": "6dDlnoDm0q08"
   },
   "outputs": [
    {
     "name": "stdout",
     "output_type": "stream",
     "text": [
      "<class 'pandas.core.frame.DataFrame'>\n",
      "RangeIndex: 137735 entries, 0 to 137734\n",
      "Data columns (total 4 columns):\n",
      " #   Column     Non-Null Count   Dtype  \n",
      "---  ------     --------------   -----  \n",
      " 0   id         137735 non-null  object \n",
      " 1   user_id    137735 non-null  int64  \n",
      " 2   call_date  137735 non-null  object \n",
      " 3   duration   137735 non-null  float64\n",
      "dtypes: float64(1), int64(1), object(2)\n",
      "memory usage: 4.2+ MB\n"
     ]
    }
   ],
   "source": [
    "# Imprime la información general/resumida sobre el DataFrame de las llamadas\n",
    "calls.info()"
   ]
  },
  {
   "cell_type": "code",
   "execution_count": 10,
   "metadata": {
    "id": "kuh1vlNB0q09"
   },
   "outputs": [
    {
     "data": {
      "text/html": [
       "<div>\n",
       "<style scoped>\n",
       "    .dataframe tbody tr th:only-of-type {\n",
       "        vertical-align: middle;\n",
       "    }\n",
       "\n",
       "    .dataframe tbody tr th {\n",
       "        vertical-align: top;\n",
       "    }\n",
       "\n",
       "    .dataframe thead th {\n",
       "        text-align: right;\n",
       "    }\n",
       "</style>\n",
       "<table border=\"1\" class=\"dataframe\">\n",
       "  <thead>\n",
       "    <tr style=\"text-align: right;\">\n",
       "      <th></th>\n",
       "      <th>id</th>\n",
       "      <th>user_id</th>\n",
       "      <th>call_date</th>\n",
       "      <th>duration</th>\n",
       "    </tr>\n",
       "  </thead>\n",
       "  <tbody>\n",
       "    <tr>\n",
       "      <th>86978</th>\n",
       "      <td>1320_647</td>\n",
       "      <td>1320</td>\n",
       "      <td>2018-05-16</td>\n",
       "      <td>9.94</td>\n",
       "    </tr>\n",
       "    <tr>\n",
       "      <th>79998</th>\n",
       "      <td>1287_47</td>\n",
       "      <td>1287</td>\n",
       "      <td>2018-11-12</td>\n",
       "      <td>2.31</td>\n",
       "    </tr>\n",
       "    <tr>\n",
       "      <th>100245</th>\n",
       "      <td>1359_110</td>\n",
       "      <td>1359</td>\n",
       "      <td>2018-02-24</td>\n",
       "      <td>6.27</td>\n",
       "    </tr>\n",
       "    <tr>\n",
       "      <th>25794</th>\n",
       "      <td>1099_114</td>\n",
       "      <td>1099</td>\n",
       "      <td>2018-04-23</td>\n",
       "      <td>4.57</td>\n",
       "    </tr>\n",
       "    <tr>\n",
       "      <th>77532</th>\n",
       "      <td>1277_608</td>\n",
       "      <td>1277</td>\n",
       "      <td>2018-11-02</td>\n",
       "      <td>3.85</td>\n",
       "    </tr>\n",
       "    <tr>\n",
       "      <th>62899</th>\n",
       "      <td>1226_298</td>\n",
       "      <td>1226</td>\n",
       "      <td>2018-08-23</td>\n",
       "      <td>0.00</td>\n",
       "    </tr>\n",
       "    <tr>\n",
       "      <th>7577</th>\n",
       "      <td>1036_169</td>\n",
       "      <td>1036</td>\n",
       "      <td>2018-10-19</td>\n",
       "      <td>0.00</td>\n",
       "    </tr>\n",
       "    <tr>\n",
       "      <th>74741</th>\n",
       "      <td>1263_725</td>\n",
       "      <td>1263</td>\n",
       "      <td>2018-07-09</td>\n",
       "      <td>17.03</td>\n",
       "    </tr>\n",
       "    <tr>\n",
       "      <th>89065</th>\n",
       "      <td>1324_1131</td>\n",
       "      <td>1324</td>\n",
       "      <td>2018-08-02</td>\n",
       "      <td>0.00</td>\n",
       "    </tr>\n",
       "    <tr>\n",
       "      <th>22901</th>\n",
       "      <td>1083_263</td>\n",
       "      <td>1083</td>\n",
       "      <td>2018-12-31</td>\n",
       "      <td>9.98</td>\n",
       "    </tr>\n",
       "  </tbody>\n",
       "</table>\n",
       "</div>"
      ],
      "text/plain": [
       "               id  user_id   call_date  duration\n",
       "86978    1320_647     1320  2018-05-16      9.94\n",
       "79998     1287_47     1287  2018-11-12      2.31\n",
       "100245   1359_110     1359  2018-02-24      6.27\n",
       "25794    1099_114     1099  2018-04-23      4.57\n",
       "77532    1277_608     1277  2018-11-02      3.85\n",
       "62899    1226_298     1226  2018-08-23      0.00\n",
       "7577     1036_169     1036  2018-10-19      0.00\n",
       "74741    1263_725     1263  2018-07-09     17.03\n",
       "89065   1324_1131     1324  2018-08-02      0.00\n",
       "22901    1083_263     1083  2018-12-31      9.98"
      ]
     },
     "metadata": {},
     "output_type": "display_data"
    }
   ],
   "source": [
    "# Imprime una muestra de datos para las llamadas\n",
    "display(calls.sample(10))"
   ]
  },
  {
   "cell_type": "markdown",
   "metadata": {
    "id": "DOAxYJSx0q09"
   },
   "source": [
    "Se observa que no hay datos ausentes en la tabla y los tipos de datos es correcto. Sin embargo se cambiará e tipo de dato de la columna ```'call_date'``` de ```object``` a ```datetime``` para poder acceder posterioirmente a las fechas con mayor facilidad y realizar un mejor análisis. También se buscarán renglones duplicados."
   ]
  },
  {
   "cell_type": "markdown",
   "metadata": {
    "id": "S7hzxmbX0q0-"
   },
   "source": [
    "### Corregir los datos"
   ]
  },
  {
   "cell_type": "markdown",
   "metadata": {
    "id": "YxWyAjD20q0-"
   },
   "source": [
    "Se va a buscar si hay renglones repetidos y se cambiara el tipo de dato de la columna ```'call_date'```"
   ]
  },
  {
   "cell_type": "code",
   "execution_count": 11,
   "metadata": {
    "id": "S2r8xA4f0q0-"
   },
   "outputs": [
    {
     "name": "stdout",
     "output_type": "stream",
     "text": [
      "0\n"
     ]
    }
   ],
   "source": [
    "# Imprime los renglones repetidos\n",
    "print(calls.duplicated().sum())"
   ]
  },
  {
   "cell_type": "code",
   "execution_count": 12,
   "metadata": {},
   "outputs": [],
   "source": [
    "# Cambai el tipo de datos de la columna call_date\n",
    "calls['call_date'] = pd.to_datetime(calls['call_date'], format='%Y-%m-%d')"
   ]
  },
  {
   "cell_type": "code",
   "execution_count": 13,
   "metadata": {},
   "outputs": [
    {
     "name": "stdout",
     "output_type": "stream",
     "text": [
      "<class 'pandas.core.frame.DataFrame'>\n",
      "RangeIndex: 137735 entries, 0 to 137734\n",
      "Data columns (total 4 columns):\n",
      " #   Column     Non-Null Count   Dtype         \n",
      "---  ------     --------------   -----         \n",
      " 0   id         137735 non-null  object        \n",
      " 1   user_id    137735 non-null  int64         \n",
      " 2   call_date  137735 non-null  datetime64[ns]\n",
      " 3   duration   137735 non-null  float64       \n",
      "dtypes: datetime64[ns](1), float64(1), int64(1), object(1)\n",
      "memory usage: 4.2+ MB\n"
     ]
    }
   ],
   "source": [
    "# Verifica que el tipo de dato sea correcto\n",
    "calls.info()"
   ]
  },
  {
   "cell_type": "markdown",
   "metadata": {
    "id": "KrMgTrlG0q0_"
   },
   "source": [
    "### Enriquecer los datos"
   ]
  },
  {
   "cell_type": "markdown",
   "metadata": {
    "id": "a9MbmEvE0q0_"
   },
   "source": [
    "Se agragará una columna para extraer el mes de la fecha de la llamada para facilitar un futuro análisis"
   ]
  },
  {
   "cell_type": "code",
   "execution_count": 14,
   "metadata": {
    "id": "iZ1avpA_0q0_"
   },
   "outputs": [
    {
     "data": {
      "text/html": [
       "<div>\n",
       "<style scoped>\n",
       "    .dataframe tbody tr th:only-of-type {\n",
       "        vertical-align: middle;\n",
       "    }\n",
       "\n",
       "    .dataframe tbody tr th {\n",
       "        vertical-align: top;\n",
       "    }\n",
       "\n",
       "    .dataframe thead th {\n",
       "        text-align: right;\n",
       "    }\n",
       "</style>\n",
       "<table border=\"1\" class=\"dataframe\">\n",
       "  <thead>\n",
       "    <tr style=\"text-align: right;\">\n",
       "      <th></th>\n",
       "      <th>id</th>\n",
       "      <th>user_id</th>\n",
       "      <th>call_date</th>\n",
       "      <th>duration</th>\n",
       "      <th>call_month</th>\n",
       "    </tr>\n",
       "  </thead>\n",
       "  <tbody>\n",
       "    <tr>\n",
       "      <th>0</th>\n",
       "      <td>1000_93</td>\n",
       "      <td>1000</td>\n",
       "      <td>2018-12-27</td>\n",
       "      <td>8.52</td>\n",
       "      <td>12</td>\n",
       "    </tr>\n",
       "    <tr>\n",
       "      <th>1</th>\n",
       "      <td>1000_145</td>\n",
       "      <td>1000</td>\n",
       "      <td>2018-12-27</td>\n",
       "      <td>13.66</td>\n",
       "      <td>12</td>\n",
       "    </tr>\n",
       "    <tr>\n",
       "      <th>2</th>\n",
       "      <td>1000_247</td>\n",
       "      <td>1000</td>\n",
       "      <td>2018-12-27</td>\n",
       "      <td>14.48</td>\n",
       "      <td>12</td>\n",
       "    </tr>\n",
       "    <tr>\n",
       "      <th>3</th>\n",
       "      <td>1000_309</td>\n",
       "      <td>1000</td>\n",
       "      <td>2018-12-28</td>\n",
       "      <td>5.76</td>\n",
       "      <td>12</td>\n",
       "    </tr>\n",
       "    <tr>\n",
       "      <th>4</th>\n",
       "      <td>1000_380</td>\n",
       "      <td>1000</td>\n",
       "      <td>2018-12-30</td>\n",
       "      <td>4.22</td>\n",
       "      <td>12</td>\n",
       "    </tr>\n",
       "  </tbody>\n",
       "</table>\n",
       "</div>"
      ],
      "text/plain": [
       "         id  user_id  call_date  duration  call_month\n",
       "0   1000_93     1000 2018-12-27      8.52          12\n",
       "1  1000_145     1000 2018-12-27     13.66          12\n",
       "2  1000_247     1000 2018-12-27     14.48          12\n",
       "3  1000_309     1000 2018-12-28      5.76          12\n",
       "4  1000_380     1000 2018-12-30      4.22          12"
      ]
     },
     "metadata": {},
     "output_type": "display_data"
    }
   ],
   "source": [
    "# Agrega la columna call_month\n",
    "calls['call_month'] = calls['call_date'].dt.month\n",
    "display(calls.head(5))"
   ]
  },
  {
   "cell_type": "markdown",
   "metadata": {
    "id": "mOUZSi180q0_"
   },
   "source": [
    "## Mensajes"
   ]
  },
  {
   "cell_type": "code",
   "execution_count": 15,
   "metadata": {
    "id": "R-bYJpdV0q1A"
   },
   "outputs": [
    {
     "name": "stdout",
     "output_type": "stream",
     "text": [
      "<class 'pandas.core.frame.DataFrame'>\n",
      "RangeIndex: 76051 entries, 0 to 76050\n",
      "Data columns (total 3 columns):\n",
      " #   Column        Non-Null Count  Dtype \n",
      "---  ------        --------------  ----- \n",
      " 0   id            76051 non-null  object\n",
      " 1   user_id       76051 non-null  int64 \n",
      " 2   message_date  76051 non-null  object\n",
      "dtypes: int64(1), object(2)\n",
      "memory usage: 1.7+ MB\n"
     ]
    }
   ],
   "source": [
    "# Imprime la información general/resumida sobre el DataFrame de los mensajes\n",
    "messages.info()"
   ]
  },
  {
   "cell_type": "code",
   "execution_count": 16,
   "metadata": {
    "id": "mCEl2iGE0q1A"
   },
   "outputs": [
    {
     "data": {
      "text/html": [
       "<div>\n",
       "<style scoped>\n",
       "    .dataframe tbody tr th:only-of-type {\n",
       "        vertical-align: middle;\n",
       "    }\n",
       "\n",
       "    .dataframe tbody tr th {\n",
       "        vertical-align: top;\n",
       "    }\n",
       "\n",
       "    .dataframe thead th {\n",
       "        text-align: right;\n",
       "    }\n",
       "</style>\n",
       "<table border=\"1\" class=\"dataframe\">\n",
       "  <thead>\n",
       "    <tr style=\"text-align: right;\">\n",
       "      <th></th>\n",
       "      <th>id</th>\n",
       "      <th>user_id</th>\n",
       "      <th>message_date</th>\n",
       "    </tr>\n",
       "  </thead>\n",
       "  <tbody>\n",
       "    <tr>\n",
       "      <th>69991</th>\n",
       "      <td>1454_353</td>\n",
       "      <td>1454</td>\n",
       "      <td>2018-07-28</td>\n",
       "    </tr>\n",
       "    <tr>\n",
       "      <th>59934</th>\n",
       "      <td>1381_47</td>\n",
       "      <td>1381</td>\n",
       "      <td>2018-10-22</td>\n",
       "    </tr>\n",
       "    <tr>\n",
       "      <th>67771</th>\n",
       "      <td>1439_165</td>\n",
       "      <td>1439</td>\n",
       "      <td>2018-11-04</td>\n",
       "    </tr>\n",
       "    <tr>\n",
       "      <th>19291</th>\n",
       "      <td>1124_178</td>\n",
       "      <td>1124</td>\n",
       "      <td>2018-11-17</td>\n",
       "    </tr>\n",
       "    <tr>\n",
       "      <th>40593</th>\n",
       "      <td>1261_241</td>\n",
       "      <td>1261</td>\n",
       "      <td>2018-07-19</td>\n",
       "    </tr>\n",
       "    <tr>\n",
       "      <th>43375</th>\n",
       "      <td>1287_49</td>\n",
       "      <td>1287</td>\n",
       "      <td>2018-12-13</td>\n",
       "    </tr>\n",
       "    <tr>\n",
       "      <th>40115</th>\n",
       "      <td>1259_158</td>\n",
       "      <td>1259</td>\n",
       "      <td>2018-09-01</td>\n",
       "    </tr>\n",
       "    <tr>\n",
       "      <th>28419</th>\n",
       "      <td>1174_209</td>\n",
       "      <td>1174</td>\n",
       "      <td>2018-11-15</td>\n",
       "    </tr>\n",
       "    <tr>\n",
       "      <th>64286</th>\n",
       "      <td>1408_411</td>\n",
       "      <td>1408</td>\n",
       "      <td>2018-07-29</td>\n",
       "    </tr>\n",
       "    <tr>\n",
       "      <th>46996</th>\n",
       "      <td>1320_240</td>\n",
       "      <td>1320</td>\n",
       "      <td>2018-05-31</td>\n",
       "    </tr>\n",
       "  </tbody>\n",
       "</table>\n",
       "</div>"
      ],
      "text/plain": [
       "             id  user_id message_date\n",
       "69991  1454_353     1454   2018-07-28\n",
       "59934   1381_47     1381   2018-10-22\n",
       "67771  1439_165     1439   2018-11-04\n",
       "19291  1124_178     1124   2018-11-17\n",
       "40593  1261_241     1261   2018-07-19\n",
       "43375   1287_49     1287   2018-12-13\n",
       "40115  1259_158     1259   2018-09-01\n",
       "28419  1174_209     1174   2018-11-15\n",
       "64286  1408_411     1408   2018-07-29\n",
       "46996  1320_240     1320   2018-05-31"
      ]
     },
     "metadata": {},
     "output_type": "display_data"
    }
   ],
   "source": [
    "# Imprime una muestra de datos para los mensajes\n",
    "display(messages.sample(10))"
   ]
  },
  {
   "cell_type": "markdown",
   "metadata": {
    "id": "04xDj7KH0q1A"
   },
   "source": [
    "Se observa que no hay datos ausentes en la tabla y los tipos de datos es correcto. Sin embargo se cambiará e tipo de dato de la columna ```'message_date'``` de ```object``` a ```datetime``` para poder acceder posterioirmente a las fechas con mayor facilidad y realizar un mejor análisis. También se buscarán renglones duplicados."
   ]
  },
  {
   "cell_type": "markdown",
   "metadata": {
    "id": "Sprfak900q1B"
   },
   "source": [
    "### Corregir los datos"
   ]
  },
  {
   "cell_type": "markdown",
   "metadata": {
    "id": "eGw7d9j10q1B"
   },
   "source": [
    "Se va a buscar si hay renglones repetidos y se cambiara el tipo de dato de la columna ```'message_date'```"
   ]
  },
  {
   "cell_type": "code",
   "execution_count": 17,
   "metadata": {
    "id": "vsllvkoa0q1B"
   },
   "outputs": [
    {
     "name": "stdout",
     "output_type": "stream",
     "text": [
      "0\n"
     ]
    }
   ],
   "source": [
    "# Verifica si hay renglones duplicados\n",
    "print(messages.duplicated().sum())"
   ]
  },
  {
   "cell_type": "code",
   "execution_count": 18,
   "metadata": {},
   "outputs": [
    {
     "name": "stdout",
     "output_type": "stream",
     "text": [
      "<class 'pandas.core.frame.DataFrame'>\n",
      "RangeIndex: 76051 entries, 0 to 76050\n",
      "Data columns (total 3 columns):\n",
      " #   Column        Non-Null Count  Dtype         \n",
      "---  ------        --------------  -----         \n",
      " 0   id            76051 non-null  object        \n",
      " 1   user_id       76051 non-null  int64         \n",
      " 2   message_date  76051 non-null  datetime64[ns]\n",
      "dtypes: datetime64[ns](1), int64(1), object(1)\n",
      "memory usage: 1.7+ MB\n"
     ]
    }
   ],
   "source": [
    "# Cambia el tipo de dato de la columna message_date\n",
    "messages['message_date'] = pd.to_datetime(messages['message_date'], format='%Y-%m-%d')\n",
    "messages.info()"
   ]
  },
  {
   "cell_type": "markdown",
   "metadata": {
    "id": "HvLid7iD0q1B"
   },
   "source": [
    "### Enriquecer los datos"
   ]
  },
  {
   "cell_type": "markdown",
   "metadata": {
    "id": "8nhPFKIe0q1C"
   },
   "source": [
    "Se agragará una columna para extraer el mes de la fecha de la llamada para facilitar un futuro análisis"
   ]
  },
  {
   "cell_type": "code",
   "execution_count": 19,
   "metadata": {
    "id": "zYEXZac10q1C"
   },
   "outputs": [
    {
     "data": {
      "text/html": [
       "<div>\n",
       "<style scoped>\n",
       "    .dataframe tbody tr th:only-of-type {\n",
       "        vertical-align: middle;\n",
       "    }\n",
       "\n",
       "    .dataframe tbody tr th {\n",
       "        vertical-align: top;\n",
       "    }\n",
       "\n",
       "    .dataframe thead th {\n",
       "        text-align: right;\n",
       "    }\n",
       "</style>\n",
       "<table border=\"1\" class=\"dataframe\">\n",
       "  <thead>\n",
       "    <tr style=\"text-align: right;\">\n",
       "      <th></th>\n",
       "      <th>id</th>\n",
       "      <th>user_id</th>\n",
       "      <th>message_date</th>\n",
       "      <th>message_month</th>\n",
       "    </tr>\n",
       "  </thead>\n",
       "  <tbody>\n",
       "    <tr>\n",
       "      <th>0</th>\n",
       "      <td>1000_125</td>\n",
       "      <td>1000</td>\n",
       "      <td>2018-12-27</td>\n",
       "      <td>12</td>\n",
       "    </tr>\n",
       "    <tr>\n",
       "      <th>1</th>\n",
       "      <td>1000_160</td>\n",
       "      <td>1000</td>\n",
       "      <td>2018-12-31</td>\n",
       "      <td>12</td>\n",
       "    </tr>\n",
       "    <tr>\n",
       "      <th>2</th>\n",
       "      <td>1000_223</td>\n",
       "      <td>1000</td>\n",
       "      <td>2018-12-31</td>\n",
       "      <td>12</td>\n",
       "    </tr>\n",
       "    <tr>\n",
       "      <th>3</th>\n",
       "      <td>1000_251</td>\n",
       "      <td>1000</td>\n",
       "      <td>2018-12-27</td>\n",
       "      <td>12</td>\n",
       "    </tr>\n",
       "    <tr>\n",
       "      <th>4</th>\n",
       "      <td>1000_255</td>\n",
       "      <td>1000</td>\n",
       "      <td>2018-12-26</td>\n",
       "      <td>12</td>\n",
       "    </tr>\n",
       "  </tbody>\n",
       "</table>\n",
       "</div>"
      ],
      "text/plain": [
       "         id  user_id message_date  message_month\n",
       "0  1000_125     1000   2018-12-27             12\n",
       "1  1000_160     1000   2018-12-31             12\n",
       "2  1000_223     1000   2018-12-31             12\n",
       "3  1000_251     1000   2018-12-27             12\n",
       "4  1000_255     1000   2018-12-26             12"
      ]
     },
     "metadata": {},
     "output_type": "display_data"
    }
   ],
   "source": [
    "# Agrega la columna message_month que contiene el mes del mensaje\n",
    "messages['message_month'] = messages['message_date'].dt.month\n",
    "display(messages.head(5))"
   ]
  },
  {
   "cell_type": "markdown",
   "metadata": {
    "id": "bStkaxn40q1C"
   },
   "source": [
    "## Internet"
   ]
  },
  {
   "cell_type": "code",
   "execution_count": 20,
   "metadata": {
    "id": "e-Uz5qyn0q1C"
   },
   "outputs": [
    {
     "name": "stdout",
     "output_type": "stream",
     "text": [
      "<class 'pandas.core.frame.DataFrame'>\n",
      "RangeIndex: 104825 entries, 0 to 104824\n",
      "Data columns (total 4 columns):\n",
      " #   Column        Non-Null Count   Dtype  \n",
      "---  ------        --------------   -----  \n",
      " 0   id            104825 non-null  object \n",
      " 1   user_id       104825 non-null  int64  \n",
      " 2   session_date  104825 non-null  object \n",
      " 3   mb_used       104825 non-null  float64\n",
      "dtypes: float64(1), int64(1), object(2)\n",
      "memory usage: 3.2+ MB\n"
     ]
    }
   ],
   "source": [
    "# Imprime la información general/resumida sobre el DataFrame de internet\n",
    "internet.info()"
   ]
  },
  {
   "cell_type": "code",
   "execution_count": 21,
   "metadata": {
    "id": "9r3x_XLw0q1C"
   },
   "outputs": [
    {
     "data": {
      "text/html": [
       "<div>\n",
       "<style scoped>\n",
       "    .dataframe tbody tr th:only-of-type {\n",
       "        vertical-align: middle;\n",
       "    }\n",
       "\n",
       "    .dataframe tbody tr th {\n",
       "        vertical-align: top;\n",
       "    }\n",
       "\n",
       "    .dataframe thead th {\n",
       "        text-align: right;\n",
       "    }\n",
       "</style>\n",
       "<table border=\"1\" class=\"dataframe\">\n",
       "  <thead>\n",
       "    <tr style=\"text-align: right;\">\n",
       "      <th></th>\n",
       "      <th>id</th>\n",
       "      <th>user_id</th>\n",
       "      <th>session_date</th>\n",
       "      <th>mb_used</th>\n",
       "    </tr>\n",
       "  </thead>\n",
       "  <tbody>\n",
       "    <tr>\n",
       "      <th>17264</th>\n",
       "      <td>1077_384</td>\n",
       "      <td>1077</td>\n",
       "      <td>2018-04-23</td>\n",
       "      <td>166.73</td>\n",
       "    </tr>\n",
       "    <tr>\n",
       "      <th>33348</th>\n",
       "      <td>1151_90</td>\n",
       "      <td>1151</td>\n",
       "      <td>2018-09-25</td>\n",
       "      <td>788.17</td>\n",
       "    </tr>\n",
       "    <tr>\n",
       "      <th>99382</th>\n",
       "      <td>1468_120</td>\n",
       "      <td>1468</td>\n",
       "      <td>2018-10-13</td>\n",
       "      <td>170.46</td>\n",
       "    </tr>\n",
       "    <tr>\n",
       "      <th>24015</th>\n",
       "      <td>1110_273</td>\n",
       "      <td>1110</td>\n",
       "      <td>2018-08-10</td>\n",
       "      <td>3.57</td>\n",
       "    </tr>\n",
       "    <tr>\n",
       "      <th>49537</th>\n",
       "      <td>1222_36</td>\n",
       "      <td>1222</td>\n",
       "      <td>2018-07-03</td>\n",
       "      <td>0.00</td>\n",
       "    </tr>\n",
       "    <tr>\n",
       "      <th>26732</th>\n",
       "      <td>1123_227</td>\n",
       "      <td>1123</td>\n",
       "      <td>2018-07-22</td>\n",
       "      <td>574.05</td>\n",
       "    </tr>\n",
       "    <tr>\n",
       "      <th>77395</th>\n",
       "      <td>1362_63</td>\n",
       "      <td>1362</td>\n",
       "      <td>2018-03-24</td>\n",
       "      <td>830.98</td>\n",
       "    </tr>\n",
       "    <tr>\n",
       "      <th>4949</th>\n",
       "      <td>1028_523</td>\n",
       "      <td>1028</td>\n",
       "      <td>2018-08-28</td>\n",
       "      <td>474.10</td>\n",
       "    </tr>\n",
       "    <tr>\n",
       "      <th>9502</th>\n",
       "      <td>1049_152</td>\n",
       "      <td>1049</td>\n",
       "      <td>2018-10-31</td>\n",
       "      <td>452.47</td>\n",
       "    </tr>\n",
       "    <tr>\n",
       "      <th>78936</th>\n",
       "      <td>1368_103</td>\n",
       "      <td>1368</td>\n",
       "      <td>2018-05-23</td>\n",
       "      <td>277.55</td>\n",
       "    </tr>\n",
       "  </tbody>\n",
       "</table>\n",
       "</div>"
      ],
      "text/plain": [
       "             id  user_id session_date  mb_used\n",
       "17264  1077_384     1077   2018-04-23   166.73\n",
       "33348   1151_90     1151   2018-09-25   788.17\n",
       "99382  1468_120     1468   2018-10-13   170.46\n",
       "24015  1110_273     1110   2018-08-10     3.57\n",
       "49537   1222_36     1222   2018-07-03     0.00\n",
       "26732  1123_227     1123   2018-07-22   574.05\n",
       "77395   1362_63     1362   2018-03-24   830.98\n",
       "4949   1028_523     1028   2018-08-28   474.10\n",
       "9502   1049_152     1049   2018-10-31   452.47\n",
       "78936  1368_103     1368   2018-05-23   277.55"
      ]
     },
     "metadata": {},
     "output_type": "display_data"
    }
   ],
   "source": [
    "# Imprime una muestra de datos para el tráfico de internet\n",
    "display(internet.sample(10))"
   ]
  },
  {
   "cell_type": "markdown",
   "metadata": {
    "id": "EzOG5ik30q1D"
   },
   "source": [
    "Se observa que no hay datos ausentes en la tabla y los tipos de datos es correcto. Sin embargo se cambiará e tipo de dato de la columna ```'session_date'``` de ```object``` a ```datetime``` para poder acceder posterioirmente a las fechas con mayor facilidad y realizar un mejor análisis. También se buscarán renglones duplicados."
   ]
  },
  {
   "cell_type": "markdown",
   "metadata": {
    "id": "yA0tkPFg0q1D"
   },
   "source": [
    "### Corregir los datos"
   ]
  },
  {
   "cell_type": "markdown",
   "metadata": {
    "id": "zlZMuIEK0q1D"
   },
   "source": [
    "Se va a buscar si hay renglones repetidos y se cambiara el tipo de dato de la columna ```'session_date'```"
   ]
  },
  {
   "cell_type": "code",
   "execution_count": 22,
   "metadata": {
    "id": "zVeanzdd0q1E"
   },
   "outputs": [
    {
     "name": "stdout",
     "output_type": "stream",
     "text": [
      "0\n"
     ]
    }
   ],
   "source": [
    "# Buscar renglones repetidos\n",
    "print(internet.duplicated().sum())"
   ]
  },
  {
   "cell_type": "code",
   "execution_count": 23,
   "metadata": {},
   "outputs": [
    {
     "name": "stdout",
     "output_type": "stream",
     "text": [
      "<class 'pandas.core.frame.DataFrame'>\n",
      "RangeIndex: 104825 entries, 0 to 104824\n",
      "Data columns (total 4 columns):\n",
      " #   Column        Non-Null Count   Dtype         \n",
      "---  ------        --------------   -----         \n",
      " 0   id            104825 non-null  object        \n",
      " 1   user_id       104825 non-null  int64         \n",
      " 2   session_date  104825 non-null  datetime64[ns]\n",
      " 3   mb_used       104825 non-null  float64       \n",
      "dtypes: datetime64[ns](1), float64(1), int64(1), object(1)\n",
      "memory usage: 3.2+ MB\n"
     ]
    }
   ],
   "source": [
    "# Cambiar el tipo de dato de la columna session_date\n",
    "internet['session_date'] = pd.to_datetime(internet['session_date'], format='%Y-%m-%d')\n",
    "internet.info()"
   ]
  },
  {
   "cell_type": "markdown",
   "metadata": {
    "id": "e8_mLF4a0q1E"
   },
   "source": [
    "### Enriquecer los datos"
   ]
  },
  {
   "cell_type": "markdown",
   "metadata": {
    "id": "xhNdn2tE0q1E"
   },
   "source": [
    "Se agragará una columna para extraer el mes de la fecha de la llamada para facilitar un futuro análisis"
   ]
  },
  {
   "cell_type": "code",
   "execution_count": 24,
   "metadata": {
    "id": "ESiYPIEK0q1E"
   },
   "outputs": [
    {
     "data": {
      "text/html": [
       "<div>\n",
       "<style scoped>\n",
       "    .dataframe tbody tr th:only-of-type {\n",
       "        vertical-align: middle;\n",
       "    }\n",
       "\n",
       "    .dataframe tbody tr th {\n",
       "        vertical-align: top;\n",
       "    }\n",
       "\n",
       "    .dataframe thead th {\n",
       "        text-align: right;\n",
       "    }\n",
       "</style>\n",
       "<table border=\"1\" class=\"dataframe\">\n",
       "  <thead>\n",
       "    <tr style=\"text-align: right;\">\n",
       "      <th></th>\n",
       "      <th>id</th>\n",
       "      <th>user_id</th>\n",
       "      <th>session_date</th>\n",
       "      <th>mb_used</th>\n",
       "      <th>session_month</th>\n",
       "    </tr>\n",
       "  </thead>\n",
       "  <tbody>\n",
       "    <tr>\n",
       "      <th>0</th>\n",
       "      <td>1000_13</td>\n",
       "      <td>1000</td>\n",
       "      <td>2018-12-29</td>\n",
       "      <td>89.86</td>\n",
       "      <td>12</td>\n",
       "    </tr>\n",
       "    <tr>\n",
       "      <th>1</th>\n",
       "      <td>1000_204</td>\n",
       "      <td>1000</td>\n",
       "      <td>2018-12-31</td>\n",
       "      <td>0.00</td>\n",
       "      <td>12</td>\n",
       "    </tr>\n",
       "    <tr>\n",
       "      <th>2</th>\n",
       "      <td>1000_379</td>\n",
       "      <td>1000</td>\n",
       "      <td>2018-12-28</td>\n",
       "      <td>660.40</td>\n",
       "      <td>12</td>\n",
       "    </tr>\n",
       "    <tr>\n",
       "      <th>3</th>\n",
       "      <td>1000_413</td>\n",
       "      <td>1000</td>\n",
       "      <td>2018-12-26</td>\n",
       "      <td>270.99</td>\n",
       "      <td>12</td>\n",
       "    </tr>\n",
       "    <tr>\n",
       "      <th>4</th>\n",
       "      <td>1000_442</td>\n",
       "      <td>1000</td>\n",
       "      <td>2018-12-27</td>\n",
       "      <td>880.22</td>\n",
       "      <td>12</td>\n",
       "    </tr>\n",
       "  </tbody>\n",
       "</table>\n",
       "</div>"
      ],
      "text/plain": [
       "         id  user_id session_date  mb_used  session_month\n",
       "0   1000_13     1000   2018-12-29    89.86             12\n",
       "1  1000_204     1000   2018-12-31     0.00             12\n",
       "2  1000_379     1000   2018-12-28   660.40             12\n",
       "3  1000_413     1000   2018-12-26   270.99             12\n",
       "4  1000_442     1000   2018-12-27   880.22             12"
      ]
     },
     "metadata": {},
     "output_type": "display_data"
    }
   ],
   "source": [
    "# Agrega la columna session_month\n",
    "internet['session_month'] = internet['session_date'].dt.month\n",
    "display(internet.head(5))"
   ]
  },
  {
   "cell_type": "markdown",
   "metadata": {
    "id": "3UA2cqIW0q1E"
   },
   "source": [
    "## Estudiar las condiciones de las tarifas"
   ]
  },
  {
   "cell_type": "markdown",
   "metadata": {
    "id": "T86Sqltq0q1F"
   },
   "source": [
    "Se imprime de nuevo la información de las tarifas para poder ver como funcionan"
   ]
  },
  {
   "cell_type": "code",
   "execution_count": 25,
   "metadata": {
    "id": "i409op8p0q1F"
   },
   "outputs": [
    {
     "data": {
      "text/html": [
       "<div>\n",
       "<style scoped>\n",
       "    .dataframe tbody tr th:only-of-type {\n",
       "        vertical-align: middle;\n",
       "    }\n",
       "\n",
       "    .dataframe tbody tr th {\n",
       "        vertical-align: top;\n",
       "    }\n",
       "\n",
       "    .dataframe thead th {\n",
       "        text-align: right;\n",
       "    }\n",
       "</style>\n",
       "<table border=\"1\" class=\"dataframe\">\n",
       "  <thead>\n",
       "    <tr style=\"text-align: right;\">\n",
       "      <th></th>\n",
       "      <th>messages_included</th>\n",
       "      <th>gb_per_month_included</th>\n",
       "      <th>minutes_included</th>\n",
       "      <th>usd_monthly_pay</th>\n",
       "      <th>usd_per_gb</th>\n",
       "      <th>usd_per_message</th>\n",
       "      <th>usd_per_minute</th>\n",
       "      <th>plan_name</th>\n",
       "    </tr>\n",
       "  </thead>\n",
       "  <tbody>\n",
       "    <tr>\n",
       "      <th>0</th>\n",
       "      <td>50</td>\n",
       "      <td>15</td>\n",
       "      <td>500</td>\n",
       "      <td>20</td>\n",
       "      <td>10</td>\n",
       "      <td>0.03</td>\n",
       "      <td>0.03</td>\n",
       "      <td>surf</td>\n",
       "    </tr>\n",
       "    <tr>\n",
       "      <th>1</th>\n",
       "      <td>1000</td>\n",
       "      <td>30</td>\n",
       "      <td>3000</td>\n",
       "      <td>70</td>\n",
       "      <td>7</td>\n",
       "      <td>0.01</td>\n",
       "      <td>0.01</td>\n",
       "      <td>ultimate</td>\n",
       "    </tr>\n",
       "  </tbody>\n",
       "</table>\n",
       "</div>"
      ],
      "text/plain": [
       "   messages_included  gb_per_month_included  minutes_included  \\\n",
       "0                 50                     15               500   \n",
       "1               1000                     30              3000   \n",
       "\n",
       "   usd_monthly_pay  usd_per_gb  usd_per_message  usd_per_minute plan_name  \n",
       "0               20          10             0.03            0.03      surf  \n",
       "1               70           7             0.01            0.01  ultimate  "
      ]
     },
     "metadata": {},
     "output_type": "display_data"
    }
   ],
   "source": [
    "# Imprime las condiciones del DataFrame plans\n",
    "display(plans.head())\n"
   ]
  },
  {
   "cell_type": "markdown",
   "metadata": {
    "id": "hMR1tP5d0q1F"
   },
   "source": [
    "## Agregar datos por usuario"
   ]
  },
  {
   "cell_type": "markdown",
   "metadata": {},
   "source": [
    "Se agrupan los datos por usuario y por mes para el número de llamadas, la duración de las llamadas, la cantidad de mensajes, y la cantidad de megas que se consumieron. Esto con el fin de poder saber, por usuario, cuanto consumió de cada servicio por mes."
   ]
  },
  {
   "cell_type": "code",
   "execution_count": 26,
   "metadata": {
    "id": "A332cedB0q1G"
   },
   "outputs": [
    {
     "data": {
      "text/plain": [
       "user_id  call_month\n",
       "1000     12            16\n",
       "1001     8             27\n",
       "         9             49\n",
       "         10            65\n",
       "         11            64\n",
       "Name: user_id, dtype: int64"
      ]
     },
     "metadata": {},
     "output_type": "display_data"
    }
   ],
   "source": [
    "# Calcula el número de llamadas hechas por cada usuario al mes.\n",
    "user_calls_by_month = calls.groupby(['user_id', 'call_month'])['user_id'].count()\n",
    "display(user_calls_by_month.head())"
   ]
  },
  {
   "cell_type": "code",
   "execution_count": 27,
   "metadata": {
    "id": "aw2cmuql0q1G",
    "scrolled": true
   },
   "outputs": [
    {
     "name": "stdout",
     "output_type": "stream",
     "text": [
      "user_id  call_month\n",
      "1000     12            116.83\n",
      "1001     8             171.14\n",
      "         9             297.69\n",
      "         10            374.11\n",
      "         11            404.59\n",
      "Name: duration, dtype: float64\n"
     ]
    }
   ],
   "source": [
    "# Calcula la cantidad de minutos usados por cada usuario al mes.\n",
    "user_calls_minutes_by_month = calls.groupby(['user_id', 'call_month'])['duration'].sum()\n",
    "print(user_calls_minutes_by_month.head())"
   ]
  },
  {
   "cell_type": "code",
   "execution_count": 28,
   "metadata": {
    "id": "CcQvNHn60q1G"
   },
   "outputs": [
    {
     "name": "stdout",
     "output_type": "stream",
     "text": [
      "user_id  message_month\n",
      "1000     12               11\n",
      "1001     8                30\n",
      "         9                44\n",
      "         10               53\n",
      "         11               36\n",
      "Name: user_id, dtype: int64\n"
     ]
    }
   ],
   "source": [
    "# Calcula el número de mensajes enviados por cada usuario al mes.\n",
    "user_messages_by_month = messages.groupby(['user_id', 'message_month'])['user_id'].count()\n",
    "print(user_messages_by_month.head())"
   ]
  },
  {
   "cell_type": "code",
   "execution_count": 29,
   "metadata": {
    "id": "H1AqN2eG0q1H"
   },
   "outputs": [
    {
     "name": "stdout",
     "output_type": "stream",
     "text": [
      "user_id  session_month\n",
      "1000     12                1901.47\n",
      "1001     8                 6919.15\n",
      "         9                13314.82\n",
      "         10               22330.49\n",
      "         11               18504.30\n",
      "Name: mb_used, dtype: float64\n"
     ]
    }
   ],
   "source": [
    "# Calcula el volumen del tráfico de Internet usado por cada usuario al mes.\n",
    "user_mb_by_motnh = internet.groupby(['user_id', 'session_month'])['mb_used'].sum()\n",
    "print(user_mb_by_motnh.head())"
   ]
  },
  {
   "cell_type": "markdown",
   "metadata": {
    "id": "VDfYXnj80q1H"
   },
   "source": [
    "El siguiente código junta los datos anteriores en un DataFrame para tener toda la informción junta. Además también se quitarán los datos ausentes que aparezcan debido a la concatenación, estos valores se cambiaran a 0, se decide cambiar a 0 porque el valor ausente representa que el usuario, en el mes correspondiente, no hizo ninguna llamada, no mandó ningún mensaje o no consumio megas de internet."
   ]
  },
  {
   "cell_type": "code",
   "execution_count": 30,
   "metadata": {
    "id": "FW99ykyf0q1H"
   },
   "outputs": [
    {
     "data": {
      "text/html": [
       "<div>\n",
       "<style scoped>\n",
       "    .dataframe tbody tr th:only-of-type {\n",
       "        vertical-align: middle;\n",
       "    }\n",
       "\n",
       "    .dataframe tbody tr th {\n",
       "        vertical-align: top;\n",
       "    }\n",
       "\n",
       "    .dataframe thead th {\n",
       "        text-align: right;\n",
       "    }\n",
       "</style>\n",
       "<table border=\"1\" class=\"dataframe\">\n",
       "  <thead>\n",
       "    <tr style=\"text-align: right;\">\n",
       "      <th></th>\n",
       "      <th></th>\n",
       "      <th>user_id</th>\n",
       "      <th>duration</th>\n",
       "      <th>user_id</th>\n",
       "      <th>mb_used</th>\n",
       "    </tr>\n",
       "    <tr>\n",
       "      <th>user_id</th>\n",
       "      <th></th>\n",
       "      <th></th>\n",
       "      <th></th>\n",
       "      <th></th>\n",
       "      <th></th>\n",
       "    </tr>\n",
       "  </thead>\n",
       "  <tbody>\n",
       "    <tr>\n",
       "      <th>1000</th>\n",
       "      <th>12</th>\n",
       "      <td>16.0</td>\n",
       "      <td>116.83</td>\n",
       "      <td>11.0</td>\n",
       "      <td>1901.47</td>\n",
       "    </tr>\n",
       "    <tr>\n",
       "      <th rowspan=\"4\" valign=\"top\">1001</th>\n",
       "      <th>8</th>\n",
       "      <td>27.0</td>\n",
       "      <td>171.14</td>\n",
       "      <td>30.0</td>\n",
       "      <td>6919.15</td>\n",
       "    </tr>\n",
       "    <tr>\n",
       "      <th>9</th>\n",
       "      <td>49.0</td>\n",
       "      <td>297.69</td>\n",
       "      <td>44.0</td>\n",
       "      <td>13314.82</td>\n",
       "    </tr>\n",
       "    <tr>\n",
       "      <th>10</th>\n",
       "      <td>65.0</td>\n",
       "      <td>374.11</td>\n",
       "      <td>53.0</td>\n",
       "      <td>22330.49</td>\n",
       "    </tr>\n",
       "    <tr>\n",
       "      <th>11</th>\n",
       "      <td>64.0</td>\n",
       "      <td>404.59</td>\n",
       "      <td>36.0</td>\n",
       "      <td>18504.30</td>\n",
       "    </tr>\n",
       "  </tbody>\n",
       "</table>\n",
       "</div>"
      ],
      "text/plain": [
       "            user_id  duration  user_id   mb_used\n",
       "user_id                                         \n",
       "1000    12     16.0    116.83     11.0   1901.47\n",
       "1001    8      27.0    171.14     30.0   6919.15\n",
       "        9      49.0    297.69     44.0  13314.82\n",
       "        10     65.0    374.11     53.0  22330.49\n",
       "        11     64.0    404.59     36.0  18504.30"
      ]
     },
     "metadata": {},
     "output_type": "display_data"
    }
   ],
   "source": [
    "# Fusiona los datos de llamadas, minutos, mensajes e Internet con base en user_id y month\n",
    "users_info = pd.concat([user_calls_by_month, user_calls_minutes_by_month, user_messages_by_month, user_mb_by_motnh], axis = 1)\n",
    "display(users_info.head())"
   ]
  },
  {
   "cell_type": "markdown",
   "metadata": {},
   "source": [
    "Cómo se puede observar, los datos ya están en un solo DataFrame, sin embargo, aún queda corregirlo un poco para facilitar su uso. Se cambiarán los nombres de las columnas por unos más representativos y se pondrá un nombre a al índice que corresponde al mes. También se cambiarán los valores ausentes a 0 como ya se había explicado y se cambiará el tipo de datos de las columnas que contienen el número de llamdas y número de mensajes por un tipo ```ìnt```."
   ]
  },
  {
   "cell_type": "code",
   "execution_count": 31,
   "metadata": {},
   "outputs": [
    {
     "data": {
      "text/html": [
       "<div>\n",
       "<style scoped>\n",
       "    .dataframe tbody tr th:only-of-type {\n",
       "        vertical-align: middle;\n",
       "    }\n",
       "\n",
       "    .dataframe tbody tr th {\n",
       "        vertical-align: top;\n",
       "    }\n",
       "\n",
       "    .dataframe thead th {\n",
       "        text-align: right;\n",
       "    }\n",
       "</style>\n",
       "<table border=\"1\" class=\"dataframe\">\n",
       "  <thead>\n",
       "    <tr style=\"text-align: right;\">\n",
       "      <th></th>\n",
       "      <th></th>\n",
       "      <th>number_of_calls</th>\n",
       "      <th>calls_duration</th>\n",
       "      <th>number_of_messages</th>\n",
       "      <th>mb_used</th>\n",
       "    </tr>\n",
       "    <tr>\n",
       "      <th>user_id</th>\n",
       "      <th>month</th>\n",
       "      <th></th>\n",
       "      <th></th>\n",
       "      <th></th>\n",
       "      <th></th>\n",
       "    </tr>\n",
       "  </thead>\n",
       "  <tbody>\n",
       "    <tr>\n",
       "      <th>1000</th>\n",
       "      <th>12</th>\n",
       "      <td>16</td>\n",
       "      <td>116.83</td>\n",
       "      <td>11</td>\n",
       "      <td>1901.47</td>\n",
       "    </tr>\n",
       "    <tr>\n",
       "      <th rowspan=\"4\" valign=\"top\">1001</th>\n",
       "      <th>8</th>\n",
       "      <td>27</td>\n",
       "      <td>171.14</td>\n",
       "      <td>30</td>\n",
       "      <td>6919.15</td>\n",
       "    </tr>\n",
       "    <tr>\n",
       "      <th>9</th>\n",
       "      <td>49</td>\n",
       "      <td>297.69</td>\n",
       "      <td>44</td>\n",
       "      <td>13314.82</td>\n",
       "    </tr>\n",
       "    <tr>\n",
       "      <th>10</th>\n",
       "      <td>65</td>\n",
       "      <td>374.11</td>\n",
       "      <td>53</td>\n",
       "      <td>22330.49</td>\n",
       "    </tr>\n",
       "    <tr>\n",
       "      <th>11</th>\n",
       "      <td>64</td>\n",
       "      <td>404.59</td>\n",
       "      <td>36</td>\n",
       "      <td>18504.30</td>\n",
       "    </tr>\n",
       "  </tbody>\n",
       "</table>\n",
       "</div>"
      ],
      "text/plain": [
       "               number_of_calls  calls_duration  number_of_messages   mb_used\n",
       "user_id month                                                               \n",
       "1000    12                  16          116.83                  11   1901.47\n",
       "1001    8                   27          171.14                  30   6919.15\n",
       "        9                   49          297.69                  44  13314.82\n",
       "        10                  65          374.11                  53  22330.49\n",
       "        11                  64          404.59                  36  18504.30"
      ]
     },
     "metadata": {},
     "output_type": "display_data"
    }
   ],
   "source": [
    "# Cambia las columnas de nombre\n",
    "users_info.columns = ['number_of_calls', 'calls_duration', 'number_of_messages', 'mb_used']\n",
    "\n",
    "# Pone nombre al índice del mes\n",
    "users_info = users_info.rename_axis(index={users_info.index.names[1]: 'month'})\n",
    "\n",
    "# Cambia los valores ausentes por 0\n",
    "users_info.fillna(0, inplace=True)\n",
    "\n",
    "# Cambia el tipo de dato de las columnas number_of_calls y number_of_messages\n",
    "users_info['number_of_calls'] = users_info['number_of_calls'].astype('int')\n",
    "users_info['number_of_messages'] = users_info['number_of_messages'].astype('int')\n",
    "\n",
    "display(users_info.head())"
   ]
  },
  {
   "cell_type": "markdown",
   "metadata": {},
   "source": [
    "Como se puede observar nuestro DataFrame ya se encuentra más detallado y entendible.\n",
    "\n",
    "Ahora cambiaré el índice de 2 niveles a que sean sólo columnas, de esta forma me resulta más sencillo trabajar, ya que no tengo\n",
    "mucha experiencia trabajando con un índice de múltiples niveles.\n",
    "\n",
    "De igual manera, se usará un mapeo para agregar una nueva columna a nuestro DataFrame que contenga el tipo de plan que el\n",
    "usuario esté usando."
   ]
  },
  {
   "cell_type": "code",
   "execution_count": 32,
   "metadata": {
    "id": "0dNOXHag0q1H"
   },
   "outputs": [
    {
     "data": {
      "text/html": [
       "<div>\n",
       "<style scoped>\n",
       "    .dataframe tbody tr th:only-of-type {\n",
       "        vertical-align: middle;\n",
       "    }\n",
       "\n",
       "    .dataframe tbody tr th {\n",
       "        vertical-align: top;\n",
       "    }\n",
       "\n",
       "    .dataframe thead th {\n",
       "        text-align: right;\n",
       "    }\n",
       "</style>\n",
       "<table border=\"1\" class=\"dataframe\">\n",
       "  <thead>\n",
       "    <tr style=\"text-align: right;\">\n",
       "      <th></th>\n",
       "      <th>user_id</th>\n",
       "      <th>month</th>\n",
       "      <th>number_of_calls</th>\n",
       "      <th>calls_duration</th>\n",
       "      <th>number_of_messages</th>\n",
       "      <th>mb_used</th>\n",
       "      <th>plan</th>\n",
       "    </tr>\n",
       "  </thead>\n",
       "  <tbody>\n",
       "    <tr>\n",
       "      <th>0</th>\n",
       "      <td>1000</td>\n",
       "      <td>12</td>\n",
       "      <td>16</td>\n",
       "      <td>116.83</td>\n",
       "      <td>11</td>\n",
       "      <td>1901.47</td>\n",
       "      <td>ultimate</td>\n",
       "    </tr>\n",
       "    <tr>\n",
       "      <th>1</th>\n",
       "      <td>1001</td>\n",
       "      <td>8</td>\n",
       "      <td>27</td>\n",
       "      <td>171.14</td>\n",
       "      <td>30</td>\n",
       "      <td>6919.15</td>\n",
       "      <td>surf</td>\n",
       "    </tr>\n",
       "    <tr>\n",
       "      <th>2</th>\n",
       "      <td>1001</td>\n",
       "      <td>9</td>\n",
       "      <td>49</td>\n",
       "      <td>297.69</td>\n",
       "      <td>44</td>\n",
       "      <td>13314.82</td>\n",
       "      <td>surf</td>\n",
       "    </tr>\n",
       "    <tr>\n",
       "      <th>3</th>\n",
       "      <td>1001</td>\n",
       "      <td>10</td>\n",
       "      <td>65</td>\n",
       "      <td>374.11</td>\n",
       "      <td>53</td>\n",
       "      <td>22330.49</td>\n",
       "      <td>surf</td>\n",
       "    </tr>\n",
       "    <tr>\n",
       "      <th>4</th>\n",
       "      <td>1001</td>\n",
       "      <td>11</td>\n",
       "      <td>64</td>\n",
       "      <td>404.59</td>\n",
       "      <td>36</td>\n",
       "      <td>18504.30</td>\n",
       "      <td>surf</td>\n",
       "    </tr>\n",
       "  </tbody>\n",
       "</table>\n",
       "</div>"
      ],
      "text/plain": [
       "   user_id  month  number_of_calls  calls_duration  number_of_messages  \\\n",
       "0     1000     12               16          116.83                  11   \n",
       "1     1001      8               27          171.14                  30   \n",
       "2     1001      9               49          297.69                  44   \n",
       "3     1001     10               65          374.11                  53   \n",
       "4     1001     11               64          404.59                  36   \n",
       "\n",
       "    mb_used      plan  \n",
       "0   1901.47  ultimate  \n",
       "1   6919.15      surf  \n",
       "2  13314.82      surf  \n",
       "3  22330.49      surf  \n",
       "4  18504.30      surf  "
      ]
     },
     "metadata": {},
     "output_type": "display_data"
    }
   ],
   "source": [
    "#Convierte user_id y month en columnas\n",
    "users_info = users_info.reset_index(level=['user_id','month'])\n",
    "\n",
    "# Añade la información del tipo de plan utilizando el mapeo\n",
    "mapeo = dict(zip(users['user_id'], users['plan']))\n",
    "users_info['plan'] = users_info['user_id'].map(mapeo)\n",
    "\n",
    "display(users_info.head())"
   ]
  },
  {
   "cell_type": "markdown",
   "metadata": {},
   "source": [
    "Nuestro DataFrame ya está casi listo para poder utilizarlo en un análisis, ahora usaré la información de la columna ```plan```, que se acaba de agregar para poder incluir toda la información del tipo de plan, está se sacará de la tabla llamada plans."
   ]
  },
  {
   "cell_type": "code",
   "execution_count": 33,
   "metadata": {
    "scrolled": true
   },
   "outputs": [
    {
     "data": {
      "text/html": [
       "<div>\n",
       "<style scoped>\n",
       "    .dataframe tbody tr th:only-of-type {\n",
       "        vertical-align: middle;\n",
       "    }\n",
       "\n",
       "    .dataframe tbody tr th {\n",
       "        vertical-align: top;\n",
       "    }\n",
       "\n",
       "    .dataframe thead th {\n",
       "        text-align: right;\n",
       "    }\n",
       "</style>\n",
       "<table border=\"1\" class=\"dataframe\">\n",
       "  <thead>\n",
       "    <tr style=\"text-align: right;\">\n",
       "      <th></th>\n",
       "      <th>user_id</th>\n",
       "      <th>month</th>\n",
       "      <th>number_of_calls</th>\n",
       "      <th>calls_duration</th>\n",
       "      <th>number_of_messages</th>\n",
       "      <th>mb_used</th>\n",
       "      <th>plan</th>\n",
       "      <th>messages_included</th>\n",
       "      <th>gb_per_month_included</th>\n",
       "      <th>minutes_included</th>\n",
       "      <th>usd_monthly_pay</th>\n",
       "      <th>usd_per_gb</th>\n",
       "      <th>usd_per_message</th>\n",
       "      <th>usd_per_minute</th>\n",
       "    </tr>\n",
       "  </thead>\n",
       "  <tbody>\n",
       "    <tr>\n",
       "      <th>0</th>\n",
       "      <td>1000</td>\n",
       "      <td>12</td>\n",
       "      <td>16</td>\n",
       "      <td>116.83</td>\n",
       "      <td>11</td>\n",
       "      <td>1901.47</td>\n",
       "      <td>ultimate</td>\n",
       "      <td>1000</td>\n",
       "      <td>30</td>\n",
       "      <td>3000</td>\n",
       "      <td>70</td>\n",
       "      <td>7</td>\n",
       "      <td>0.01</td>\n",
       "      <td>0.01</td>\n",
       "    </tr>\n",
       "    <tr>\n",
       "      <th>1</th>\n",
       "      <td>1006</td>\n",
       "      <td>11</td>\n",
       "      <td>2</td>\n",
       "      <td>9.32</td>\n",
       "      <td>15</td>\n",
       "      <td>2068.37</td>\n",
       "      <td>ultimate</td>\n",
       "      <td>1000</td>\n",
       "      <td>30</td>\n",
       "      <td>3000</td>\n",
       "      <td>70</td>\n",
       "      <td>7</td>\n",
       "      <td>0.01</td>\n",
       "      <td>0.01</td>\n",
       "    </tr>\n",
       "    <tr>\n",
       "      <th>2</th>\n",
       "      <td>1006</td>\n",
       "      <td>12</td>\n",
       "      <td>9</td>\n",
       "      <td>54.79</td>\n",
       "      <td>139</td>\n",
       "      <td>32118.82</td>\n",
       "      <td>ultimate</td>\n",
       "      <td>1000</td>\n",
       "      <td>30</td>\n",
       "      <td>3000</td>\n",
       "      <td>70</td>\n",
       "      <td>7</td>\n",
       "      <td>0.01</td>\n",
       "      <td>0.01</td>\n",
       "    </tr>\n",
       "    <tr>\n",
       "      <th>3</th>\n",
       "      <td>1008</td>\n",
       "      <td>10</td>\n",
       "      <td>71</td>\n",
       "      <td>450.21</td>\n",
       "      <td>21</td>\n",
       "      <td>17106.99</td>\n",
       "      <td>ultimate</td>\n",
       "      <td>1000</td>\n",
       "      <td>30</td>\n",
       "      <td>3000</td>\n",
       "      <td>70</td>\n",
       "      <td>7</td>\n",
       "      <td>0.01</td>\n",
       "      <td>0.01</td>\n",
       "    </tr>\n",
       "    <tr>\n",
       "      <th>4</th>\n",
       "      <td>1008</td>\n",
       "      <td>11</td>\n",
       "      <td>63</td>\n",
       "      <td>422.81</td>\n",
       "      <td>37</td>\n",
       "      <td>23676.72</td>\n",
       "      <td>ultimate</td>\n",
       "      <td>1000</td>\n",
       "      <td>30</td>\n",
       "      <td>3000</td>\n",
       "      <td>70</td>\n",
       "      <td>7</td>\n",
       "      <td>0.01</td>\n",
       "      <td>0.01</td>\n",
       "    </tr>\n",
       "  </tbody>\n",
       "</table>\n",
       "</div>"
      ],
      "text/plain": [
       "   user_id  month  number_of_calls  calls_duration  number_of_messages  \\\n",
       "0     1000     12               16          116.83                  11   \n",
       "1     1006     11                2            9.32                  15   \n",
       "2     1006     12                9           54.79                 139   \n",
       "3     1008     10               71          450.21                  21   \n",
       "4     1008     11               63          422.81                  37   \n",
       "\n",
       "    mb_used      plan  messages_included  gb_per_month_included  \\\n",
       "0   1901.47  ultimate               1000                     30   \n",
       "1   2068.37  ultimate               1000                     30   \n",
       "2  32118.82  ultimate               1000                     30   \n",
       "3  17106.99  ultimate               1000                     30   \n",
       "4  23676.72  ultimate               1000                     30   \n",
       "\n",
       "   minutes_included  usd_monthly_pay  usd_per_gb  usd_per_message  \\\n",
       "0              3000               70           7             0.01   \n",
       "1              3000               70           7             0.01   \n",
       "2              3000               70           7             0.01   \n",
       "3              3000               70           7             0.01   \n",
       "4              3000               70           7             0.01   \n",
       "\n",
       "   usd_per_minute  \n",
       "0            0.01  \n",
       "1            0.01  \n",
       "2            0.01  \n",
       "3            0.01  \n",
       "4            0.01  "
      ]
     },
     "metadata": {},
     "output_type": "display_data"
    }
   ],
   "source": [
    "# Agrega toda la información de acuerdo al plan que tiene el usuario\n",
    "users_info = users_info.merge(plans, left_on='plan', right_on='plan_name')\n",
    "\n",
    "# Borra la columna repetida que se crea por la función merge\n",
    "users_info = users_info.drop('plan_name', axis='columns')\n",
    "display(users_info.head())"
   ]
  },
  {
   "cell_type": "markdown",
   "metadata": {
    "id": "1IwGo4wg0q1I"
   },
   "source": [
    "A continuación se calculan las tarifas extras causadas por sobrepasar el límite de minutos de las llamadas, el límite de la cantidad de mensajes y el límite de la cantidad de mb consumidos. Estas tarifas extras sumadas al pago mensual de cada plan nos dará el total de lo que los usuarios gastaron por mes.\n",
    "\n",
    "Para esto utilizaré funciones y despues se agregará la columna con la información correspondiente al servicio que sobrepaso el límite. Cada servicio tiene sus reglas que aplican cuando el usuario se excede del límite, la información recién agregada ya contiene el precio que se aplica, dichas reglas son mencionadas a continuación:\n",
    "\n",
    "* Para los mensajes extra, dependiendo el plan, cada mensaje extra se multiplica por una tarifa específica.\n",
    "\n",
    "* GB excedidos: por cada GB extra, se aplica una tarifa dada de acuerdo al plan. La información de nuestra tabla tiene el consumo de internet en MB, por lo que es necesario transformar este dato en GB, además, si e resultado de está conversión es un número decimal se va a redondear al siguiente entero para cobrar GB completos, ya que así lo marca la regla.\n",
    "\n",
    "* Minutos de llamadas: Por cada minuto se aplica una tarifa que está marcada de acuerdo al tipo de plan. Para este calculo de igual manera, si los minutos tienen decimales se redondeará al siguiente entero para poder cobrar minutos completos. "
   ]
  },
  {
   "cell_type": "code",
   "execution_count": 34,
   "metadata": {
    "id": "5FGCf_c60q1I"
   },
   "outputs": [],
   "source": [
    "# Función para calcular la tarifa extra de los mensajes, si no excedió el límite retorna un 0\n",
    "def extra_messages(row):\n",
    "    # Diferencia en el número de mensajes. Si es menor a 0, significa que no se excedió en el límite dado. Si es mayor que 0 si\n",
    "    # se excedió\n",
    "    messages_dif = row['number_of_messages'] - row['messages_included']\n",
    "    \n",
    "    # Verifica si la diferencia de mensajes es mayor que 0\n",
    "    if messages_dif > 0:\n",
    "        # Aplica el cargo por mensaje extra\n",
    "        return messages_dif * row['usd_per_message']\n",
    "    else:\n",
    "        return 0\n",
    "    \n",
    "# Función para calcular la tarifa extra de los gb, si no excedió el límite retorna un 0\n",
    "def extra_gb(row):\n",
    "    # Convierte los mb excendentes en gigas\n",
    "    gb = row['mb_used'] / 1024\n",
    "    \n",
    "    # Redondea los gigas al numero entero siguiente \n",
    "    gb = np.ceil(gb)\n",
    "    \n",
    "    # Diferencia los mb usados y los mb límite. Si es menor a 0, significa que no se excedió en el límite dado. Si es mayor que\n",
    "    # 0 si se excedió\n",
    "    gb_dif = gb - row['gb_per_month_included']\n",
    "    \n",
    "     # Verifica si la diferencia de mensajes es mayor que 0\n",
    "    if gb_dif > 0:\n",
    "        return gb_dif * row['usd_per_gb']\n",
    "    else:\n",
    "        return 0\n",
    "\n",
    "# Función para calcular la tarifa extra de los minutos, si no excedió el límite retorna un 0\n",
    "def extra_min(row):\n",
    "    min_dif = np.ceil(row['calls_duration'])\n",
    "    min_dif -= row['minutes_included']\n",
    "    if min_dif > 0:\n",
    "        return min_dif * row['usd_per_minute']\n",
    "    else:\n",
    "        return 0\n",
    "\n",
    "# Agrega la columna con el valor de la tarifa extra de los mensajes.\n",
    "users_info['usd_extra_messages'] = users_info.apply(extra_messages, axis=1)\n",
    "\n",
    "# Agrega la columna con el valor de la tarifa extra de los mb.\n",
    "users_info['usd_extra_gb'] = users_info.apply(extra_gb, axis=1)\n",
    "\n",
    "# Agrega la columna con el valor de la tarifa extra de los minutos de llamadas.\n",
    "users_info['usd_extra_min'] = users_info.apply(extra_min, axis=1)\n",
    "\n",
    "# Agrega la columna con el valor de la tarifa TOTAL que tiene que pagar cada usuario, sumando el pago mensual de cada mes y\n",
    "# la tarifa extra que haya tenido en cada servicio, si es que tuvo.\n",
    "users_info['total_monthly_pay'] = users_info['usd_monthly_pay'] + users_info['usd_extra_messages'] + users_info['usd_extra_gb'] + users_info['usd_extra_min']"
   ]
  },
  {
   "cell_type": "code",
   "execution_count": 36,
   "metadata": {},
   "outputs": [
    {
     "data": {
      "text/html": [
       "<div>\n",
       "<style scoped>\n",
       "    .dataframe tbody tr th:only-of-type {\n",
       "        vertical-align: middle;\n",
       "    }\n",
       "\n",
       "    .dataframe tbody tr th {\n",
       "        vertical-align: top;\n",
       "    }\n",
       "\n",
       "    .dataframe thead th {\n",
       "        text-align: right;\n",
       "    }\n",
       "</style>\n",
       "<table border=\"1\" class=\"dataframe\">\n",
       "  <thead>\n",
       "    <tr style=\"text-align: right;\">\n",
       "      <th></th>\n",
       "      <th>user_id</th>\n",
       "      <th>month</th>\n",
       "      <th>number_of_calls</th>\n",
       "      <th>calls_duration</th>\n",
       "      <th>number_of_messages</th>\n",
       "      <th>mb_used</th>\n",
       "      <th>plan</th>\n",
       "      <th>messages_included</th>\n",
       "      <th>gb_per_month_included</th>\n",
       "      <th>minutes_included</th>\n",
       "      <th>usd_monthly_pay</th>\n",
       "      <th>usd_per_gb</th>\n",
       "      <th>usd_per_message</th>\n",
       "      <th>usd_per_minute</th>\n",
       "      <th>usd_extra_messages</th>\n",
       "      <th>usd_extra_gb</th>\n",
       "      <th>usd_extra_min</th>\n",
       "      <th>total_monthly_pay</th>\n",
       "    </tr>\n",
       "  </thead>\n",
       "  <tbody>\n",
       "    <tr>\n",
       "      <th>1790</th>\n",
       "      <td>1328</td>\n",
       "      <td>7</td>\n",
       "      <td>132</td>\n",
       "      <td>850.55</td>\n",
       "      <td>164</td>\n",
       "      <td>36408.26</td>\n",
       "      <td>surf</td>\n",
       "      <td>50</td>\n",
       "      <td>15</td>\n",
       "      <td>500</td>\n",
       "      <td>20</td>\n",
       "      <td>10</td>\n",
       "      <td>0.03</td>\n",
       "      <td>0.03</td>\n",
       "      <td>3.42</td>\n",
       "      <td>210.0</td>\n",
       "      <td>10.53</td>\n",
       "      <td>243.95</td>\n",
       "    </tr>\n",
       "    <tr>\n",
       "      <th>1724</th>\n",
       "      <td>1313</td>\n",
       "      <td>8</td>\n",
       "      <td>85</td>\n",
       "      <td>668.37</td>\n",
       "      <td>61</td>\n",
       "      <td>16293.62</td>\n",
       "      <td>surf</td>\n",
       "      <td>50</td>\n",
       "      <td>15</td>\n",
       "      <td>500</td>\n",
       "      <td>20</td>\n",
       "      <td>10</td>\n",
       "      <td>0.03</td>\n",
       "      <td>0.03</td>\n",
       "      <td>0.33</td>\n",
       "      <td>10.0</td>\n",
       "      <td>5.07</td>\n",
       "      <td>35.40</td>\n",
       "    </tr>\n",
       "    <tr>\n",
       "      <th>2145</th>\n",
       "      <td>1439</td>\n",
       "      <td>10</td>\n",
       "      <td>40</td>\n",
       "      <td>294.26</td>\n",
       "      <td>77</td>\n",
       "      <td>17702.60</td>\n",
       "      <td>surf</td>\n",
       "      <td>50</td>\n",
       "      <td>15</td>\n",
       "      <td>500</td>\n",
       "      <td>20</td>\n",
       "      <td>10</td>\n",
       "      <td>0.03</td>\n",
       "      <td>0.03</td>\n",
       "      <td>0.81</td>\n",
       "      <td>30.0</td>\n",
       "      <td>0.00</td>\n",
       "      <td>50.81</td>\n",
       "    </tr>\n",
       "    <tr>\n",
       "      <th>745</th>\n",
       "      <td>1009</td>\n",
       "      <td>7</td>\n",
       "      <td>124</td>\n",
       "      <td>826.74</td>\n",
       "      <td>0</td>\n",
       "      <td>30421.65</td>\n",
       "      <td>surf</td>\n",
       "      <td>50</td>\n",
       "      <td>15</td>\n",
       "      <td>500</td>\n",
       "      <td>20</td>\n",
       "      <td>10</td>\n",
       "      <td>0.03</td>\n",
       "      <td>0.03</td>\n",
       "      <td>0.00</td>\n",
       "      <td>150.0</td>\n",
       "      <td>9.81</td>\n",
       "      <td>179.81</td>\n",
       "    </tr>\n",
       "    <tr>\n",
       "      <th>539</th>\n",
       "      <td>1401</td>\n",
       "      <td>8</td>\n",
       "      <td>10</td>\n",
       "      <td>74.66</td>\n",
       "      <td>13</td>\n",
       "      <td>630.23</td>\n",
       "      <td>ultimate</td>\n",
       "      <td>1000</td>\n",
       "      <td>30</td>\n",
       "      <td>3000</td>\n",
       "      <td>70</td>\n",
       "      <td>7</td>\n",
       "      <td>0.01</td>\n",
       "      <td>0.01</td>\n",
       "      <td>0.00</td>\n",
       "      <td>0.0</td>\n",
       "      <td>0.00</td>\n",
       "      <td>70.00</td>\n",
       "    </tr>\n",
       "  </tbody>\n",
       "</table>\n",
       "</div>"
      ],
      "text/plain": [
       "      user_id  month  number_of_calls  calls_duration  number_of_messages  \\\n",
       "1790     1328      7              132          850.55                 164   \n",
       "1724     1313      8               85          668.37                  61   \n",
       "2145     1439     10               40          294.26                  77   \n",
       "745      1009      7              124          826.74                   0   \n",
       "539      1401      8               10           74.66                  13   \n",
       "\n",
       "       mb_used      plan  messages_included  gb_per_month_included  \\\n",
       "1790  36408.26      surf                 50                     15   \n",
       "1724  16293.62      surf                 50                     15   \n",
       "2145  17702.60      surf                 50                     15   \n",
       "745   30421.65      surf                 50                     15   \n",
       "539     630.23  ultimate               1000                     30   \n",
       "\n",
       "      minutes_included  usd_monthly_pay  usd_per_gb  usd_per_message  \\\n",
       "1790               500               20          10             0.03   \n",
       "1724               500               20          10             0.03   \n",
       "2145               500               20          10             0.03   \n",
       "745                500               20          10             0.03   \n",
       "539               3000               70           7             0.01   \n",
       "\n",
       "      usd_per_minute  usd_extra_messages  usd_extra_gb  usd_extra_min  \\\n",
       "1790            0.03                3.42         210.0          10.53   \n",
       "1724            0.03                0.33          10.0           5.07   \n",
       "2145            0.03                0.81          30.0           0.00   \n",
       "745             0.03                0.00         150.0           9.81   \n",
       "539             0.01                0.00           0.0           0.00   \n",
       "\n",
       "      total_monthly_pay  \n",
       "1790             243.95  \n",
       "1724              35.40  \n",
       "2145              50.81  \n",
       "745              179.81  \n",
       "539               70.00  "
      ]
     },
     "metadata": {},
     "output_type": "display_data"
    }
   ],
   "source": [
    "display(users_info.sample(5))"
   ]
  },
  {
   "cell_type": "markdown",
   "metadata": {
    "id": "-jtyHzJb0q1I"
   },
   "source": [
    "## Estudia el comportamiento de usuario"
   ]
  },
  {
   "cell_type": "markdown",
   "metadata": {
    "id": "AxU3Y0N70q1J"
   },
   "source": [
    "Se calculan algunas estadísticas descriptivas para los datos agregados y fusionados que nos sean útiles y que muestren un panorama general captado por los datos. Además se crean gráficos útiles para facilitar la comprensión."
   ]
  },
  {
   "cell_type": "markdown",
   "metadata": {
    "id": "vtW4CJEe0q1J"
   },
   "source": [
    "### Llamadas"
   ]
  },
  {
   "cell_type": "markdown",
   "metadata": {},
   "source": [
    "Se grafica la duración del promedio de duración de las llamdas de cada plan, de esta forma podremos comparar la cantidad promedio de minutos que usan los usuarios en cada mes."
   ]
  },
  {
   "cell_type": "code",
   "execution_count": 37,
   "metadata": {
    "id": "Jf5v5--k0q1J",
    "scrolled": false
   },
   "outputs": [
    {
     "data": {
      "image/png": "[encoded data removed]",
      "text/plain": [
       "<Figure size 720x504 with 1 Axes>"
      ]
     },
     "metadata": {
      "needs_background": "light"
     },
     "output_type": "display_data"
    }
   ],
   "source": [
    "# Agrupamos el DataFrame users_info por mes y por plan y después se saca el promedio de la duración de las llamadas\n",
    "duration_mean = users_info.groupby(['month','plan'])['calls_duration'].mean().unstack()\n",
    "\n",
    "# Grafica la información obtenida arriba\n",
    "duration_mean.plot(kind='bar', figsize=(10,7), title='Duración promedio de llamadas por mes del año 2018', xlabel='Mes (número)',\n",
    "                  ylabel='Promedio de duración de llamadas (minutos)')\n",
    "\n",
    "plt.show()"
   ]
  },
  {
   "cell_type": "markdown",
   "metadata": {},
   "source": [
    "<span style=\"color: blue;\">Conclusiones:</span>\n",
    "\n",
    "La mayor cantidad de minutos usados en son en los últimos  meses, siendo diciembre el mes con más minutos usados. También podemos obvesrvar que no es mucha la diferencia en los promedios de duración de llamdas en cada plan, la mayor diferencia la podemos observar en el mes de febrero que son aproximadamente 100 minutos.\n",
    "\n",
    "Son pocos los meses que el plan surf supera el promedio de los 400 minutos, se puede decir que en estos meses (julio-diciembre)  hay más personas que en este plan que superaron su límite de 500 minutos."
   ]
  },
  {
   "cell_type": "code",
   "execution_count": 38,
   "metadata": {
    "id": "QoLqW1S_0q1J"
   },
   "outputs": [
    {
     "data": {
      "image/png": "[encoded data removed]",
      "text/plain": [
       "<Figure size 720x504 with 1 Axes>"
      ]
     },
     "metadata": {
      "needs_background": "light"
     },
     "output_type": "display_data"
    }
   ],
   "source": [
    "# Compara el número de minutos mensuales que necesitan los usuarios de cada plan.\n",
    "users_info[users_info['plan']=='surf']['calls_duration'].plot(kind='hist', bins=150, figsize=(10,7),\n",
    "                                                title='Minutos usados al mes de cada plan',label='surf')\n",
    "users_info[users_info['plan']=='ultimate']['calls_duration'].plot(kind='hist', bins=150, label='ultimate')\n",
    "plt.legend()\n",
    "plt.xlabel('Minutos usados')\n",
    "plt.show()"
   ]
  },
  {
   "cell_type": "markdown",
   "metadata": {},
   "source": [
    "<span style=\"color: blue;\">Conclusiones:</span>\n",
    "\n",
    "Con este histograma podemos decir que el plan surf es más utilizado por los usuarios. Aunque se ve que hay demasiados usuarios que sobrepasan el límite mensual que tiene el plan ya que pasando los 500 minutos y llegando a los 600 minutos hay una frecuancia de 15 o más."
   ]
  },
  {
   "cell_type": "code",
   "execution_count": 39,
   "metadata": {
    "id": "oSndbAnt0q1K",
    "scrolled": true
   },
   "outputs": [
    {
     "name": "stdout",
     "output_type": "stream",
     "text": [
      "La media de la duración de las llamdas del plan surf es de: 404.76239033693577\n",
      "La varianza de la duración de las llamadas del plan surf es de: 49103.8683332564\n",
      "La media de la duración de las llamdas del plan ultimate es de: 406.1930833333333\n",
      "La varianza de la duración de las llamadas del plan ultimate es de: 51569.24783077083\n"
     ]
    }
   ],
   "source": [
    "# Calcula la media y la varianza de la duración mensual de llamadas.\n",
    "# Plan surf\n",
    "surf_call_duration_mean = users_info[users_info['plan']=='surf']['calls_duration'].mean()\n",
    "surf_call_duration_var = np.var(users_info[users_info['plan']=='surf']['calls_duration'])\n",
    "\n",
    "# Plan ultimate\n",
    "ultimate_call_duration_mean = users_info[users_info['plan']=='ultimate']['calls_duration'].mean()\n",
    "ultimate_call_duration_var = np.var(users_info[users_info['plan']=='ultimate']['calls_duration'])\n",
    "\n",
    "print('La media de la duración de las llamdas del plan surf es de:', surf_call_duration_mean)\n",
    "print('La varianza de la duración de las llamadas del plan surf es de:' , surf_call_duration_var)\n",
    "print('La media de la duración de las llamdas del plan ultimate es de:', ultimate_call_duration_mean)\n",
    "print('La varianza de la duración de las llamadas del plan ultimate es de:' , ultimate_call_duration_var)"
   ]
  },
  {
   "cell_type": "code",
   "execution_count": 40,
   "metadata": {
    "id": "nZzoRUKc0q1K"
   },
   "outputs": [
    {
     "data": {
      "image/png": "[encoded data removed]",
      "text/plain": [
       "<Figure size 432x288 with 1 Axes>"
      ]
     },
     "metadata": {
      "needs_background": "light"
     },
     "output_type": "display_data"
    }
   ],
   "source": [
    "# Traza un diagrama de caja para visualizar la distribución de la duración mensual de llamadas\n",
    "sns.boxplot(x=users_info['calls_duration'], data=users_info[users_info['plan']=='surf'])\n",
    "plt.xlabel('Duración de llamadas (minutos)')\n",
    "plt.title('Duración de llamadas del plan surf')\n",
    "\n",
    "plt.show()"
   ]
  },
  {
   "cell_type": "code",
   "execution_count": 41,
   "metadata": {},
   "outputs": [
    {
     "data": {
      "image/png": "[encoded data removed]",
      "text/plain": [
       "<Figure size 432x288 with 1 Axes>"
      ]
     },
     "metadata": {
      "needs_background": "light"
     },
     "output_type": "display_data"
    }
   ],
   "source": [
    "# Traza un diagrama de caja para visualizar la distribución de la duración mensual de llamadas\n",
    "sns.boxplot(x=users_info['calls_duration'], data=users_info[users_info['plan']=='ultimate'])\n",
    "plt.xlabel('Duración de llamadas (minutos)')\n",
    "plt.title('Duración de llamadas del plan ultimate')\n",
    "\n",
    "plt.show()"
   ]
  },
  {
   "cell_type": "markdown",
   "metadata": {
    "id": "r627zBO50q1K"
   },
   "source": [
    "<span style=\"color: blue;\">Conclusiones:</span>\n",
    "\n",
    "Con este análisis comprobamos que la media de duración de llamdas en ambos planes se encuentra muy cerca de los 400 minutos, el intervalo intercuartil se encuentra entre los 200 y 400. Es decir, el 50% de los usuarios tienen de 200 a 400 minutos mensuales de llamdas, independientemente cual sea el plan que tengan. "
   ]
  },
  {
   "cell_type": "markdown",
   "metadata": {
    "id": "8idKy8Wh0q1L"
   },
   "source": [
    "### Mensajes"
   ]
  },
  {
   "cell_type": "code",
   "execution_count": 42,
   "metadata": {
    "id": "NXLxiTit0q1L",
    "scrolled": false
   },
   "outputs": [
    {
     "data": {
      "image/png": "[encoded data removed]",
      "text/plain": [
       "<Figure size 720x504 with 1 Axes>"
      ]
     },
     "metadata": {
      "needs_background": "light"
     },
     "output_type": "display_data"
    }
   ],
   "source": [
    "# Comprara el número de mensajes que tienden a enviar cada mes los usuarios de cada plan\n",
    "duration_mean_messages = users_info.groupby(['month','plan'])['number_of_messages'].mean().unstack()\n",
    "duration_mean_messages.plot(kind='bar', figsize=(10,7), title='Mensajes por mes del año 2018', xlabel='Mes (número)',\n",
    "                  ylabel='Número de mensajes')\n",
    "\n",
    "plt.show()"
   ]
  },
  {
   "cell_type": "markdown",
   "metadata": {},
   "source": [
    "<span style=\"color: blue;\">Conclusiones:</span>\n",
    "\n",
    "La mayor cantidad de mensajes enviados se da en los últimos  meses, siendo diciembre el mes con más mensajes teniendo un promedio casi 40 mesajes enviados para el plan surf y un promedio de 50 mensajes para el plan ultimate. También podemos obvesrvar que no es mucha la diferencia en los promedios mensajes enviados en cada plan.\n",
    "\n",
    "En promedio, ningún plan supera sus límites que tienen. Sin embargo para el plan surf, mientras el promedio esté más cerc de 40 se puede decir que hay usuarios que si superaron su límite de 50 mensajes.\n",
    "\n",
    "El comportamiento que presenta es muy parecido al que se presenta para los minutos usados de llamdas."
   ]
  },
  {
   "cell_type": "code",
   "execution_count": 43,
   "metadata": {
    "id": "GRI_R7xF0q1L",
    "scrolled": false
   },
   "outputs": [
    {
     "data": {
      "image/png": "[encoded data removed]",
      "text/plain": [
       "<Figure size 720x504 with 1 Axes>"
      ]
     },
     "metadata": {
      "needs_background": "light"
     },
     "output_type": "display_data"
    }
   ],
   "source": [
    "# Compara la cantidad de mensajes mensuales que necesitan los usuarios de cada plan.\n",
    "users_info[users_info['plan']=='surf']['number_of_messages'].plot(kind='hist', bins=20, figsize=(10,7),\n",
    "                                                title='Mensajes al mes de cada plan',label='surf')\n",
    "users_info[users_info['plan']=='ultimate']['number_of_messages'].plot(kind='hist', bins=20, label='ultimate')\n",
    "plt.legend()\n",
    "plt.xlabel('Número de mensajes')\n",
    "plt.show()\n"
   ]
  },
  {
   "cell_type": "markdown",
   "metadata": {},
   "source": [
    "<span style=\"color: blue;\">Conclusiones:</span>\n",
    "\n",
    "Con este histograma podemos decir que el plan surf sigue siendo el más utilizado por los usuarios. y se observa que siguen siendo muchos los usuarios que sobrepasan el límite mensual que tiene el plan (50 mensajes). Los usuarios del plan surf sobrepasan más veces el límite que tiene el plan para mnsajes y para minutos de llamadas."
   ]
  },
  {
   "cell_type": "code",
   "execution_count": 44,
   "metadata": {},
   "outputs": [
    {
     "name": "stdout",
     "output_type": "stream",
     "text": [
      "La media del número de mensajes del plan surf es de: 31.15956770502225\n",
      "La varianza del número de mensajes del plan surf es de: 1126.0082317266622\n",
      "La media del número de mensajes del plan ultimate es de: 37.55138888888889\n",
      "La varianza del número de mensajes del plan ultimate es de: 1207.0779147376543\n"
     ]
    }
   ],
   "source": [
    "# Calcula la media y la varianza de la cantidad de mensajes enviados en cada plan.\n",
    "surf_messages_mean = users_info[users_info['plan']=='surf']['number_of_messages'].mean()\n",
    "surf_messages_var = np.var(users_info[users_info['plan']=='surf']['number_of_messages'])\n",
    "\n",
    "\n",
    "ultimate_messages_duration_mean = users_info[users_info['plan']=='ultimate']['number_of_messages'].mean()\n",
    "ultimate_messages_duration_var = np.var(users_info[users_info['plan']=='ultimate']['number_of_messages'])\n",
    "\n",
    "print('La media del número de mensajes del plan surf es de:', surf_messages_mean)\n",
    "print('La varianza del número de mensajes del plan surf es de:' , surf_messages_var)\n",
    "print('La media del número de mensajes del plan ultimate es de:', ultimate_messages_duration_mean)\n",
    "print('La varianza del número de mensajes del plan ultimate es de:' , ultimate_messages_duration_var)"
   ]
  },
  {
   "cell_type": "code",
   "execution_count": 45,
   "metadata": {
    "id": "dtFwCGAp0q1M"
   },
   "outputs": [
    {
     "data": {
      "image/png": "[encoded data removed]",
      "text/plain": [
       "<Figure size 432x288 with 1 Axes>"
      ]
     },
     "metadata": {
      "needs_background": "light"
     },
     "output_type": "display_data"
    }
   ],
   "source": [
    "sns.boxplot(x=users_info['number_of_messages'], data=users_info[users_info['plan']=='surf'])\n",
    "plt.xlabel('Número de mensajes')\n",
    "plt.title('Mensajes del plan surf')\n",
    "\n",
    "plt.show()"
   ]
  },
  {
   "cell_type": "code",
   "execution_count": 46,
   "metadata": {},
   "outputs": [
    {
     "data": {
      "image/png": "[encoded data removed]",
      "text/plain": [
       "<Figure size 432x288 with 1 Axes>"
      ]
     },
     "metadata": {
      "needs_background": "light"
     },
     "output_type": "display_data"
    }
   ],
   "source": [
    "sns.boxplot(x=users_info['number_of_messages'], data=users_info[users_info['plan']=='ultimate'])\n",
    "plt.xlabel('Número de mensajes')\n",
    "plt.title('Mensajes del plan ultimate')\n",
    "\n",
    "plt.show()"
   ]
  },
  {
   "cell_type": "markdown",
   "metadata": {
    "id": "390SSL480q1M"
   },
   "source": [
    "<span style=\"color: blue;\">Conclusiones:</span>\n",
    "\n",
    "Con este análisis comprobamos que la media de mensajes enviados en ambos planes se encuentra muy cerca de los 50 mensajes, no hay variación entre un plan y otro, el intervalo intercuartil se encuentra entre 1 y un poco más de 50 mensajes. Es decir, el 50% de los usuarios tienen de 1 a 50 mensajes enviados mensuales, independientemente cual sea el plan que tengan.\n",
    "\n",
    "Este comportamiento sigue siendo muy similiar para la duración de las llamadas."
   ]
  },
  {
   "cell_type": "markdown",
   "metadata": {
    "id": "42YSypXz0q1M"
   },
   "source": [
    "### Internet"
   ]
  },
  {
   "cell_type": "code",
   "execution_count": 47,
   "metadata": {
    "id": "lSuKPtjh0q1M"
   },
   "outputs": [
    {
     "data": {
      "image/png": "[encoded data removed]",
      "text/plain": [
       "<Figure size 720x504 with 1 Axes>"
      ]
     },
     "metadata": {
      "needs_background": "light"
     },
     "output_type": "display_data"
    }
   ],
   "source": [
    "# Comprara los mb consumidos por los usuarios de cada plan\n",
    "duration_mean_mb = users_info.groupby(['month','plan'])['mb_used'].mean().unstack()\n",
    "duration_mean_mb.plot(kind='bar', figsize=(10,7), title='Mb usados por mes del año 2018', xlabel='Mes (número)',\n",
    "                  ylabel='Mb usados')\n",
    "\n",
    "plt.show()"
   ]
  },
  {
   "cell_type": "markdown",
   "metadata": {},
   "source": [
    "<span style=\"color: blue;\">Conclusiones:</span>\n",
    "\n",
    "Aquí podemos ver que el promedio de los mb utilizados en el plan ultimate se encuentra entre los 15000 mb y los 17500 mb a partir del mes de febrero. En el plan surf el consumo va creciendo gradualmente conforme pasan los meses. Es de junio en adelante que la diferencia en el promedio del consumo de mb entre los planes no presenta mucha diferencia.\n",
    "\n",
    "A partir del mes de junio el promedio de mb usados del plan surf, está por encima de los 15000 mb, el cuál es el límite de mb para este plan. Con esto podemos decir que una gran mayoria de usuarios superó su límite de mb."
   ]
  },
  {
   "cell_type": "code",
   "execution_count": 48,
   "metadata": {
    "id": "wnh8jYXi0q1N"
   },
   "outputs": [
    {
     "data": {
      "image/png": "[encoded data removed]",
      "text/plain": [
       "<Figure size 720x504 with 1 Axes>"
      ]
     },
     "metadata": {
      "needs_background": "light"
     },
     "output_type": "display_data"
    }
   ],
   "source": [
    "# Compara elos mb consumidos mensuales que necesitan los usuarios de cada plan.\n",
    "users_info[users_info['plan']=='surf']['mb_used'].plot(kind='hist', bins=20, figsize=(10,7),\n",
    "                                                title='Mb usados al mes de cada plan',label='surf')\n",
    "users_info[users_info['plan']=='ultimate']['mb_used'].plot(kind='hist', bins=20, label='ultimate')\n",
    "plt.legend()\n",
    "plt.xlabel('Mb usados')\n",
    "plt.show()\n"
   ]
  },
  {
   "cell_type": "markdown",
   "metadata": {},
   "source": [
    "<span style=\"color: blue;\">Conclusiones:</span>\n",
    "\n",
    "En este histograma podemos decir que de nuevo el plan surf sigue siendo el más utilizado por los usuarios. Y se observa que, de igaul manera, siguen siendo muchos los usuarios que sobrepasan el límite mensual que tiene el plan (15000 mb). Los usuarios del plan surf sobrepasan más veces el límite que tiene el plan para mnsajes y para minutos de llamadas."
   ]
  },
  {
   "cell_type": "code",
   "execution_count": 49,
   "metadata": {
    "id": "5VlyJ9ry0q1N"
   },
   "outputs": [
    {
     "name": "stdout",
     "output_type": "stream",
     "text": [
      "La media de los mb consumidos del plan surf es de: 16558.283490146216\n",
      "La varianza de los mb consumidos del plan surf es de: 64175571.68301331\n",
      "La media de los mb consumidos del plan ultimate es de: 17214.699694444444\n",
      "La varianza de los mb consumidos del plan ultimate es de: 61566665.1386863\n"
     ]
    }
   ],
   "source": [
    "# Calcula la media y la varianza de los mb usados.\n",
    "surf_mb_mean = users_info[users_info['plan']=='surf']['mb_used'].mean()\n",
    "surf_mb_var = np.var(users_info[users_info['plan']=='surf']['mb_used'])\n",
    "\n",
    "ultimate_mb_mean = users_info[users_info['plan']=='ultimate']['mb_used'].mean()\n",
    "ultimate_mb_var = np.var(users_info[users_info['plan']=='ultimate']['mb_used'])\n",
    "\n",
    "print('La media de los mb consumidos del plan surf es de:', surf_mb_mean)\n",
    "print('La varianza de los mb consumidos del plan surf es de:' , surf_mb_var)\n",
    "print('La media de los mb consumidos del plan ultimate es de:', ultimate_mb_mean)\n",
    "print('La varianza de los mb consumidos del plan ultimate es de:' , ultimate_mb_var)"
   ]
  },
  {
   "cell_type": "code",
   "execution_count": 50,
   "metadata": {},
   "outputs": [
    {
     "data": {
      "image/png": "[encoded data removed]",
      "text/plain": [
       "<Figure size 432x288 with 1 Axes>"
      ]
     },
     "metadata": {
      "needs_background": "light"
     },
     "output_type": "display_data"
    }
   ],
   "source": [
    "# Crea un boxplot de los mb usados por los usuarios del plan surf\n",
    "sns.boxplot(x=users_info['mb_used'], data=users_info[users_info['plan']=='surf'])\n",
    "plt.xlabel('Mb usados')\n",
    "plt.title('Mb usados del plan surf')\n",
    "\n",
    "plt.show()"
   ]
  },
  {
   "cell_type": "code",
   "execution_count": 51,
   "metadata": {},
   "outputs": [
    {
     "data": {
      "image/png": "[encoded data removed]",
      "text/plain": [
       "<Figure size 432x288 with 1 Axes>"
      ]
     },
     "metadata": {
      "needs_background": "light"
     },
     "output_type": "display_data"
    }
   ],
   "source": [
    "# Crea un bosplot de los mb usados por los usuarios del plan ultimate\n",
    "sns.boxplot(x=users_info['mb_used'], data=users_info[users_info['plan']=='ultimate'])\n",
    "plt.xlabel('Mb usados')\n",
    "plt.title('Mb usados del plan ultimate')\n",
    "\n",
    "plt.show()"
   ]
  },
  {
   "cell_type": "markdown",
   "metadata": {
    "id": "UN9zwuMP0q1N"
   },
   "source": [
    "<span style=\"color: blue;\">Conclusiones:</span>\n",
    "\n",
    "Con este análisis comprobamos que la media de mb usados en el plan surf es de  16558 y en el plan ultimate es de 17214, no hay una gran variación entre un plan y otro ya que sólo hay 1 gb de diferencia. El intervalo intercuartil se encuentra entre los 10000 y un poco más de 20000 mb. Es decir, el 50% de los usuarios tienen de 10000 a 20000 mb usados mensualmente, independientemente cual sea el plan que tengan.\n",
    "\n",
    "Este comportamiento sigue siendo muy similiar para la duración de las llamadas y mensajes."
   ]
  },
  {
   "cell_type": "markdown",
   "metadata": {
    "id": "tCijq3260q1N"
   },
   "source": [
    "## Ingreso"
   ]
  },
  {
   "cell_type": "markdown",
   "metadata": {
    "id": "9nq5IAcy0q1O"
   },
   "source": [
    "[Del mismo modo que has estudiado el comportamiento de los usuarios, describe estadísticamente los ingresos de los planes.]"
   ]
  },
  {
   "cell_type": "code",
   "execution_count": 52,
   "metadata": {
    "id": "tz-dq_V00q1O",
    "scrolled": false
   },
   "outputs": [
    {
     "data": {
      "image/png": "[encoded data removed]",
      "text/plain": [
       "<Figure size 720x504 with 1 Axes>"
      ]
     },
     "metadata": {
      "needs_background": "light"
     },
     "output_type": "display_data"
    }
   ],
   "source": [
    "# Comprara el ingreso total proveniente de los usuarios de cada plan\n",
    "duration_mean_mb = users_info.groupby(['month','plan'])['total_monthly_pay'].mean().unstack()\n",
    "duration_mean_mb.plot(kind='bar', figsize=(10,7), title='Gasto total de los usuarios por mes del año 2018', xlabel='Mes (número)',\n",
    "                  ylabel='Gasto de los usuarios')\n",
    "\n",
    "plt.show()"
   ]
  },
  {
   "cell_type": "markdown",
   "metadata": {},
   "source": [
    "<span style=\"color: blue;\">Conclusiones:</span>\n",
    "\n",
    "El promedio de ingreso para el plan ultimate se mantiene un poco arriba de los 70 usd durante todo el año, el cual es su precio mensual. Por otra parte, se aprecia que el gasto que hacen los usuarios del plan surf va aumentando gradualmente hasta que en diciembre casi llega a los 70 usd, siendo que este plan cuesta 20 usd. Es decir, en cada mes que pasa los usuarios del plan surf van sobrepasando más el límite de algun servicio, ya sea de minutos, mensajes o mb."
   ]
  },
  {
   "cell_type": "code",
   "execution_count": 53,
   "metadata": {
    "id": "0Y1v8ZUz0q1P"
   },
   "outputs": [
    {
     "data": {
      "image/png": "[encoded data removed]",
      "text/plain": [
       "<Figure size 720x504 with 1 Axes>"
      ]
     },
     "metadata": {
      "needs_background": "light"
     },
     "output_type": "display_data"
    }
   ],
   "source": [
    "# Compara elingreso total mensual que necesitan los usuarios de cada plan.\n",
    "users_info[users_info['plan']=='surf']['total_monthly_pay'].plot(kind='hist', bins=10, figsize=(10,7),\n",
    "                                                title='Gasto total al mes de cada plan',label='surf')\n",
    "users_info[users_info['plan']=='ultimate']['total_monthly_pay'].plot(kind='hist', bins=10, label='ultimate')\n",
    "plt.legend()\n",
    "plt.xlabel('Gasto total (usd)')\n",
    "plt.show()"
   ]
  },
  {
   "cell_type": "markdown",
   "metadata": {},
   "source": [
    "<span style=\"color: blue;\">Conclusiones:</span>\n",
    "\n",
    "El plan en el que más gastan los usuarios es el surf, ya que a pesar de que su costo es de 20 usd, en más de 1000 ocaciones los usuarios han tenido que pagar entre 70 y 80. Mientras que para el plan ultimate es apreciable que la mayoría de sus usuarios pagan solamente lo que el plan cuesta al mes."
   ]
  },
  {
   "cell_type": "code",
   "execution_count": 54,
   "metadata": {},
   "outputs": [
    {
     "name": "stdout",
     "output_type": "stream",
     "text": [
      "La media de los ingresos totales del plan surf es de: 60.331932612841705\n",
      "La varianza de los ingresos totales del plan surf es de: 3052.155930912179\n",
      "La media de los ingresos totales del plan ultimate es de: 72.31388888888888\n",
      "La varianza de los ingresos totales del plan ultimate es de: 129.66814043209877\n"
     ]
    }
   ],
   "source": [
    "# Calcula la media y la varianza de los ingresos totales.\n",
    "surf_pay_mean = users_info[users_info['plan']=='surf']['total_monthly_pay'].mean()\n",
    "surf_pay_var = np.var(users_info[users_info['plan']=='surf']['total_monthly_pay'])\n",
    "\n",
    "ultimate_pay_mean = users_info[users_info['plan']=='ultimate']['total_monthly_pay'].mean()\n",
    "ultimate_pay_var = np.var(users_info[users_info['plan']=='ultimate']['total_monthly_pay'])\n",
    "\n",
    "print('La media de los ingresos totales del plan surf es de:', surf_pay_mean)\n",
    "print('La varianza de los ingresos totales del plan surf es de:' , surf_pay_var)\n",
    "print('La media de los ingresos totales del plan ultimate es de:', ultimate_pay_mean)\n",
    "print('La varianza de los ingresos totales del plan ultimate es de:' , ultimate_pay_var)"
   ]
  },
  {
   "cell_type": "code",
   "execution_count": 55,
   "metadata": {
    "id": "bYmwxyVh0q1P"
   },
   "outputs": [
    {
     "data": {
      "image/png": "[encoded data removed]",
      "text/plain": [
       "<Figure size 432x288 with 1 Axes>"
      ]
     },
     "metadata": {
      "needs_background": "light"
     },
     "output_type": "display_data"
    }
   ],
   "source": [
    "sns.boxplot(x=users_info['total_monthly_pay'], data=users_info[users_info['plan']=='surf'])\n",
    "plt.xlabel('Gasto total (usd)')\n",
    "plt.title('Gasto total de los usuarios del plan surf')\n",
    "\n",
    "plt.show()"
   ]
  },
  {
   "cell_type": "code",
   "execution_count": 56,
   "metadata": {},
   "outputs": [
    {
     "data": {
      "image/png": "[encoded data removed]",
      "text/plain": [
       "<Figure size 432x288 with 1 Axes>"
      ]
     },
     "metadata": {
      "needs_background": "light"
     },
     "output_type": "display_data"
    }
   ],
   "source": [
    "sns.boxplot(x=users_info['total_monthly_pay'], data=users_info[users_info['plan']=='ultimate'])\n",
    "plt.xlabel('Gasto total (usd)')\n",
    "plt.title('Gasto total de los usuarios del plan ultimate')\n",
    "\n",
    "plt.show()"
   ]
  },
  {
   "cell_type": "markdown",
   "metadata": {
    "id": "KAFidcXZ0q1P"
   },
   "source": [
    "<span style=\"color: blue;\">Conclusiones:</span>\n",
    "\n",
    "Podemos ver que a pesar de que el plan surf es más barato que el plan ultimate, en realidad no hay gran variedad en el gasto total que hacen los usuarios. Esto debido a que los usuarios  del plan surf superan en mayor medida sus límites de cada servicio provocando que se carguen tarifas adicionales al costo mensual."
   ]
  },
  {
   "cell_type": "markdown",
   "metadata": {
    "id": "ajJ7VKeI0q1Q"
   },
   "source": [
    "## Prueba las hipótesis estadísticas"
   ]
  },
  {
   "cell_type": "markdown",
   "metadata": {
    "id": "AdXAZ-yL0q1Q"
   },
   "source": [
    "Prueba la hipótesis de que son diferentes los ingresos promedio procedentes de los usuarios de los planes de llamada Ultimate y Surf."
   ]
  },
  {
   "cell_type": "markdown",
   "metadata": {
    "id": "IQwa_hsh0q1Q"
   },
   "source": [
    "Hipótesis nula: los ingresos promedio del plan surf son iguales a los ingresos promedio del plan ultimate.\n",
    "\n",
    "Hipótesis alternativa: los ingresos promedio del plan surf son diferentes que los ingresos promedio del plan ultimate.\n",
    "\n",
    "El valor alpha se establece en 5% y establecemos ```equal_var=False``` porque sabemos, del ejercicio anterior que las varianas no son nada parecidas."
   ]
  },
  {
   "cell_type": "code",
   "execution_count": 57,
   "metadata": {
    "id": "nFoPNlPq0q1R"
   },
   "outputs": [
    {
     "name": "stdout",
     "output_type": "stream",
     "text": [
      "valor p: 3.6278039040985444e-16\n",
      "Rechazamos la hipótesis nula\n"
     ]
    }
   ],
   "source": [
    "# Primero sacamos los dos arrays de nuestro DataFrame\n",
    "# Array que contiene los ingresos provenientes del plan surf\n",
    "surf_payment = users_info.loc[users_info['plan']=='surf', 'total_monthly_pay']\n",
    "\n",
    "# Array que contiene los ingresos provenientes del plan ultimate\n",
    "ultimate_payment = users_info.loc[users_info['plan']=='ultimate', 'total_monthly_pay']\n",
    "\n",
    "# Prueba las hipótesis\n",
    "alpha = 0.05\n",
    "\n",
    "results = st.ttest_ind(surf_payment, ultimate_payment, equal_var=False)\n",
    "print('valor p:', results.pvalue)\n",
    "\n",
    "if results.pvalue <  alpha:\n",
    "    print('Rechazamos la hipótesis nula')\n",
    "else:\n",
    "    prnt('No podemos rechazar la hipótesis nula')"
   ]
  },
  {
   "cell_type": "markdown",
   "metadata": {},
   "source": [
    "<span style=\"color: blue;\">Conclusiones:</span>\n",
    "\n",
    "Al tener un valor p demasiado bajo, nuestro análisis sugiere que los ingresos difieren de un plan a otro"
   ]
  },
  {
   "cell_type": "markdown",
   "metadata": {
    "id": "tCcAruM60q1R"
   },
   "source": [
    "Prueba la hipótesis de que el ingreso promedio de los usuarios del área NY-NJ es diferente al de los usuarios de otras regiones."
   ]
  },
  {
   "cell_type": "markdown",
   "metadata": {
    "id": "LsBgitqj0q1R"
   },
   "source": [
    "Hipótesis nula: los ingresos promedio de los usuarios del área de NY-NJ son iguales a los ingresos promedio de los usuarios de otras regiones.\n",
    "\n",
    "Hipótesis alternativa: los ingresos promedio del área de NY-NJ son diferentes que los ingresos promedio de los usuarios de otras regiones.\n",
    "\n",
    "El valor alpha se establece en 5%, establecemos ```equal_var=True``` porque no sabemos como son las varianzas de estos datos."
   ]
  },
  {
   "cell_type": "code",
   "execution_count": 58,
   "metadata": {
    "id": "Cqcj7wrZ0q1S"
   },
   "outputs": [
    {
     "name": "stdout",
     "output_type": "stream",
     "text": [
      "valor p: 0.04076784279879048\n",
      "Rechazamos la hipótesis nula\n"
     ]
    }
   ],
   "source": [
    "# Agregamos una columna a nuestro DF que contiene la ciudad de donde es cada usuario New York-Newark-Jersey City, NY-NJ-PA MSA\n",
    "mapeo = dict(zip(users['user_id'], users['city']))\n",
    "users_info['city'] = users_info['user_id'].map(mapeo)\n",
    "\n",
    "# Array que contiene los ingresos provenientes de los usuarios de NY-NJ\n",
    "NY_NJ_users = users_info.loc[users_info['city']=='New York-Newark-Jersey City, NY-NJ-PA MSA', 'total_monthly_pay']\n",
    "\n",
    "# Array que contiene los ingresos provenientes del plan ultimate\n",
    "other_users = users_info.loc[~(users_info['city']=='New York-Newark-Jersey City, NY-NJ-PA MSA'), 'total_monthly_pay']\n",
    "\n",
    "# Prueba las hipótesis\n",
    "alpha = 0.05\n",
    "\n",
    "results = st.ttest_ind(NY_NJ_users, other_users, equal_var=True)\n",
    "print('valor p:', results.pvalue)\n",
    "\n",
    "if results.pvalue <  alpha:\n",
    "    print('Rechazamos la hipótesis nula')\n",
    "else:\n",
    "    prnt('No podemos rechazar la hipótesis nula')\n"
   ]
  },
  {
   "cell_type": "markdown",
   "metadata": {},
   "source": [
    "<span style=\"color: blue;\">Conclusiones:</span>\n",
    "\n",
    "Los datos proporcionan evidencia sufuciente, dado el nivel de significación que seleccionamos, para rechazar la hipótesis. Nuestro análisis sugiere que los ingresos difieren de la región de NY-NJ a otra región diferente a esa"
   ]
  },
  {
   "cell_type": "markdown",
   "metadata": {
    "id": "bbTR8UQO0q1T"
   },
   "source": [
    "## Conclusión general\n",
    "\n"
   ]
  },
  {
   "cell_type": "markdown",
   "metadata": {},
   "source": [
    "Este fue un excelente proyecto que ya recopila más temas vistos e el BootCamp. Me gustó mucho y también me gusta que ya no sea tan guiado, debí tomar mis propias decisiones para saber como abordar los retos"
   ]
  }
 ],
 "metadata": {
  "ExecuteTimeLog": [
   {
    "duration": 828,
    "start_time": "2021-11-16T09:21:11.304Z"
   },
   {
    "duration": 893,
    "start_time": "2021-11-16T09:21:17.728Z"
   },
   {
    "duration": 1150,
    "start_time": "2021-11-16T09:21:29.568Z"
   },
   {
    "duration": 3,
    "start_time": "2021-11-16T09:24:14.495Z"
   },
   {
    "duration": 120,
    "start_time": "2021-11-16T09:24:46.630Z"
   },
   {
    "duration": 3,
    "start_time": "2021-11-16T09:28:27.882Z"
   },
   {
    "duration": 4,
    "start_time": "2021-11-16T09:29:54.281Z"
   },
   {
    "duration": 3,
    "start_time": "2021-11-16T09:30:45.936Z"
   },
   {
    "duration": 4,
    "start_time": "2021-11-16T09:31:06.300Z"
   },
   {
    "duration": 113,
    "start_time": "2021-11-16T09:31:37.208Z"
   },
   {
    "duration": 143,
    "start_time": "2021-11-16T09:31:48.656Z"
   },
   {
    "duration": 98,
    "start_time": "2021-11-16T09:31:55.678Z"
   },
   {
    "duration": 3,
    "start_time": "2021-11-16T09:32:08.535Z"
   },
   {
    "duration": 111,
    "start_time": "2021-11-16T09:32:10.120Z"
   },
   {
    "duration": 3,
    "start_time": "2021-11-16T09:32:15.732Z"
   },
   {
    "duration": 4,
    "start_time": "2021-11-16T09:32:29.423Z"
   },
   {
    "duration": 3,
    "start_time": "2021-11-16T10:03:03.074Z"
   },
   {
    "duration": 3,
    "start_time": "2021-11-16T10:10:01.288Z"
   },
   {
    "duration": 3,
    "start_time": "2021-11-16T10:10:46.923Z"
   },
   {
    "duration": 121,
    "start_time": "2021-11-16T10:37:46.494Z"
   },
   {
    "duration": 125,
    "start_time": "2021-11-16T10:38:20.632Z"
   },
   {
    "duration": 112,
    "start_time": "2021-11-16T10:46:53.001Z"
   },
   {
    "duration": 110,
    "start_time": "2021-11-16T10:48:25.775Z"
   },
   {
    "duration": 3,
    "start_time": "2021-11-16T10:50:18.720Z"
   },
   {
    "duration": 4,
    "start_time": "2021-11-16T10:50:37.649Z"
   },
   {
    "duration": 2,
    "start_time": "2021-11-16T10:50:51.884Z"
   },
   {
    "duration": 3,
    "start_time": "2021-11-16T10:51:56.237Z"
   },
   {
    "duration": 101,
    "start_time": "2021-11-16T10:53:13.791Z"
   },
   {
    "duration": 3,
    "start_time": "2021-11-16T10:55:59.186Z"
   },
   {
    "duration": 3,
    "start_time": "2021-11-16T10:56:10.751Z"
   },
   {
    "duration": 3,
    "start_time": "2021-11-16T10:56:49.038Z"
   },
   {
    "duration": 3,
    "start_time": "2021-11-16T10:56:49.174Z"
   },
   {
    "duration": 4,
    "start_time": "2021-11-16T10:56:49.414Z"
   },
   {
    "duration": 3,
    "start_time": "2021-11-16T10:56:49.680Z"
   },
   {
    "duration": 3,
    "start_time": "2021-11-16T10:56:50.370Z"
   },
   {
    "duration": 114,
    "start_time": "2021-11-16T10:59:34.518Z"
   },
   {
    "duration": 3,
    "start_time": "2021-11-16T11:01:41.201Z"
   },
   {
    "duration": 116,
    "start_time": "2021-11-16T11:01:48.754Z"
   },
   {
    "duration": 3,
    "start_time": "2021-11-16T11:02:16.685Z"
   },
   {
    "duration": 3,
    "start_time": "2021-11-16T11:02:19.479Z"
   },
   {
    "duration": 3,
    "start_time": "2021-11-16T11:02:47.067Z"
   },
   {
    "duration": 3,
    "start_time": "2021-11-16T11:02:49.353Z"
   },
   {
    "duration": 3,
    "start_time": "2021-11-16T11:03:07.835Z"
   },
   {
    "duration": 3,
    "start_time": "2021-11-16T11:03:07.953Z"
   },
   {
    "duration": 112,
    "start_time": "2021-11-16T11:07:52.072Z"
   },
   {
    "duration": 187,
    "start_time": "2021-11-16T11:09:23.468Z"
   },
   {
    "duration": 4,
    "start_time": "2021-11-16T11:10:01.455Z"
   },
   {
    "duration": 3,
    "start_time": "2021-11-16T11:10:05.069Z"
   },
   {
    "duration": 4,
    "start_time": "2021-11-16T11:10:13.376Z"
   },
   {
    "duration": 3,
    "start_time": "2021-11-16T11:10:14.434Z"
   },
   {
    "duration": 3,
    "start_time": "2021-11-16T11:10:22.853Z"
   },
   {
    "duration": 4,
    "start_time": "2021-11-16T11:27:29.279Z"
   },
   {
    "duration": 4,
    "start_time": "2021-11-16T11:29:08.919Z"
   },
   {
    "duration": 118,
    "start_time": "2021-11-16T11:29:46.703Z"
   },
   {
    "duration": 437,
    "start_time": "2021-11-16T11:36:02.181Z"
   },
   {
    "duration": 157,
    "start_time": "2021-11-16T11:36:14.388Z"
   },
   {
    "duration": 207,
    "start_time": "2021-11-16T11:47:15.898Z"
   },
   {
    "duration": 3,
    "start_time": "2021-11-16T11:53:52.092Z"
   },
   {
    "duration": 3,
    "start_time": "2021-11-16T11:53:52.236Z"
   },
   {
    "duration": 3,
    "start_time": "2021-11-16T11:59:12.005Z"
   },
   {
    "duration": 112,
    "start_time": "2021-11-16T12:00:33.446Z"
   },
   {
    "duration": 3,
    "start_time": "2021-11-16T12:02:14.453Z"
   },
   {
    "duration": 3,
    "start_time": "2021-11-16T12:02:39.512Z"
   },
   {
    "duration": 106,
    "start_time": "2021-11-16T12:03:03.460Z"
   },
   {
    "duration": 3,
    "start_time": "2021-11-17T20:37:21.139Z"
   },
   {
    "duration": 3,
    "start_time": "2021-11-17T20:37:22.229Z"
   },
   {
    "duration": 3,
    "start_time": "2021-11-17T20:38:38.806Z"
   },
   {
    "duration": 3,
    "start_time": "2021-11-17T20:38:41.958Z"
   },
   {
    "duration": 3,
    "start_time": "2021-11-17T20:43:46.551Z"
   },
   {
    "duration": 4,
    "start_time": "2021-11-17T20:58:21.835Z"
   },
   {
    "duration": 3,
    "start_time": "2021-11-17T20:59:21.872Z"
   },
   {
    "duration": 4,
    "start_time": "2021-11-17T20:59:45.352Z"
   },
   {
    "duration": 4,
    "start_time": "2021-11-17T20:59:49.646Z"
   },
   {
    "duration": 159,
    "start_time": "2021-11-17T21:02:26.949Z"
   },
   {
    "duration": 3,
    "start_time": "2021-11-17T21:03:53.461Z"
   },
   {
    "duration": 3,
    "start_time": "2021-11-17T21:03:53.694Z"
   },
   {
    "duration": 3,
    "start_time": "2021-11-17T21:05:28.145Z"
   },
   {
    "duration": 116,
    "start_time": "2021-11-17T21:05:57.787Z"
   },
   {
    "duration": 3,
    "start_time": "2021-11-17T21:06:37.993Z"
   },
   {
    "duration": 3,
    "start_time": "2021-11-17T21:06:38.261Z"
   },
   {
    "duration": 3,
    "start_time": "2021-11-17T21:11:54.358Z"
   },
   {
    "duration": 3,
    "start_time": "2021-11-17T21:12:43.846Z"
   },
   {
    "duration": 4,
    "start_time": "2021-11-17T21:13:08.773Z"
   },
   {
    "duration": 3,
    "start_time": "2021-11-17T21:14:44.441Z"
   },
   {
    "duration": 3,
    "start_time": "2021-11-17T21:15:42.059Z"
   },
   {
    "duration": 4,
    "start_time": "2021-11-17T21:15:51.995Z"
   },
   {
    "duration": 3,
    "start_time": "2021-11-17T21:15:53.923Z"
   },
   {
    "duration": 3,
    "start_time": "2021-11-17T21:15:55.282Z"
   },
   {
    "duration": 3,
    "start_time": "2021-11-17T21:16:28.492Z"
   },
   {
    "duration": 3,
    "start_time": "2021-11-17T21:16:32.603Z"
   },
   {
    "duration": 3,
    "start_time": "2021-11-17T21:17:06.941Z"
   },
   {
    "duration": 98,
    "start_time": "2021-11-17T21:18:05.733Z"
   },
   {
    "duration": 4,
    "start_time": "2021-11-17T21:21:35.255Z"
   },
   {
    "duration": 3,
    "start_time": "2021-11-17T21:21:37.804Z"
   },
   {
    "duration": 4,
    "start_time": "2021-11-17T21:23:06.071Z"
   },
   {
    "duration": 3,
    "start_time": "2021-11-17T21:23:24.799Z"
   },
   {
    "duration": 3,
    "start_time": "2021-11-17T21:23:32.591Z"
   },
   {
    "duration": 98,
    "start_time": "2021-11-17T21:28:31.559Z"
   },
   {
    "duration": 3,
    "start_time": "2021-11-17T21:28:45.448Z"
   },
   {
    "duration": 3,
    "start_time": "2021-11-17T21:29:17.303Z"
   },
   {
    "duration": 3,
    "start_time": "2021-11-17T21:29:29.617Z"
   },
   {
    "duration": 3,
    "start_time": "2021-11-17T21:29:32.681Z"
   },
   {
    "duration": 3,
    "start_time": "2021-11-17T21:36:11.474Z"
   },
   {
    "duration": 3,
    "start_time": "2021-11-17T21:36:14.791Z"
   },
   {
    "duration": 3,
    "start_time": "2021-11-17T21:36:53.943Z"
   },
   {
    "duration": 3,
    "start_time": "2021-11-17T21:36:56.165Z"
   },
   {
    "duration": 4,
    "start_time": "2021-11-17T21:37:16.590Z"
   },
   {
    "duration": 3,
    "start_time": "2021-11-17T21:37:22.702Z"
   },
   {
    "duration": 4,
    "start_time": "2021-11-17T21:38:03.479Z"
   },
   {
    "duration": 3,
    "start_time": "2021-11-17T21:38:08.601Z"
   },
   {
    "duration": 3,
    "start_time": "2021-11-17T21:38:12.928Z"
   },
   {
    "duration": 3,
    "start_time": "2021-11-17T21:38:48.896Z"
   },
   {
    "duration": 2,
    "start_time": "2021-11-17T21:38:49.171Z"
   },
   {
    "duration": 4,
    "start_time": "2021-11-17T21:39:57.889Z"
   },
   {
    "duration": 3,
    "start_time": "2021-11-17T21:39:58.057Z"
   },
   {
    "duration": 3,
    "start_time": "2021-11-17T21:41:20.108Z"
   },
   {
    "duration": 3,
    "start_time": "2021-11-17T21:41:20.629Z"
   },
   {
    "duration": 3,
    "start_time": "2021-11-17T21:42:49.136Z"
   },
   {
    "duration": 3,
    "start_time": "2021-11-17T21:43:15.137Z"
   },
   {
    "duration": 4,
    "start_time": "2021-11-17T21:43:16.766Z"
   },
   {
    "duration": 4,
    "start_time": "2021-11-17T21:43:31.711Z"
   },
   {
    "duration": 3,
    "start_time": "2021-11-17T21:43:36.312Z"
   },
   {
    "duration": 4,
    "start_time": "2021-11-17T21:45:08.825Z"
   },
   {
    "duration": 4,
    "start_time": "2021-11-17T21:45:10.119Z"
   },
   {
    "duration": 4,
    "start_time": "2021-11-17T21:45:13.748Z"
   },
   {
    "duration": 3,
    "start_time": "2021-11-17T21:45:22.219Z"
   },
   {
    "duration": 3,
    "start_time": "2021-11-17T21:45:33.412Z"
   },
   {
    "duration": 2,
    "start_time": "2021-11-17T21:46:01.885Z"
   },
   {
    "duration": 3,
    "start_time": "2021-11-17T21:46:03.628Z"
   },
   {
    "duration": 107,
    "start_time": "2021-11-17T21:47:32.512Z"
   },
   {
    "duration": 103,
    "start_time": "2021-11-17T21:50:36.243Z"
   },
   {
    "duration": 3,
    "start_time": "2021-11-18T06:28:31.440Z"
   },
   {
    "duration": 3,
    "start_time": "2021-11-18T06:29:00.168Z"
   },
   {
    "duration": 3,
    "start_time": "2021-11-18T06:31:27.008Z"
   },
   {
    "duration": 2,
    "start_time": "2021-11-18T06:35:34.288Z"
   },
   {
    "duration": 2,
    "start_time": "2021-11-18T06:38:04.527Z"
   }
  ],
  "colab": {
   "provenance": []
  },
  "kernelspec": {
   "display_name": "Python 3 (ipykernel)",
   "language": "python",
   "name": "python3"
  },
  "language_info": {
   "codemirror_mode": {
    "name": "ipython",
    "version": 3
   },
   "file_extension": ".py",
   "mimetype": "text/x-python",
   "name": "python",
   "nbconvert_exporter": "python",
   "pygments_lexer": "ipython3",
   "version": "3.9.19"
  },
  "toc": {
   "base_numbering": 1,
   "nav_menu": {},
   "number_sections": true,
   "sideBar": true,
   "skip_h1_title": false,
   "title_cell": "Table of Contents",
   "title_sidebar": "Contents",
   "toc_cell": false,
   "toc_position": {
    "height": "calc(100% - 180px)",
    "left": "10px",
    "top": "150px",
    "width": "253.4px"
   },
   "toc_section_display": true,
   "toc_window_display": false
  }
 },
 "nbformat": 4,
 "nbformat_minor": 1
}
